{
 "cells": [
  {
   "cell_type": "code",
   "execution_count": 1,
   "id": "b40df21c",
   "metadata": {},
   "outputs": [],
   "source": [
    "df <- read.csv(\"E:/Machine Learning/Datasets/Breast_Cancer.csv\")"
   ]
  },
  {
   "cell_type": "code",
   "execution_count": 2,
   "id": "8b671054",
   "metadata": {},
   "outputs": [
    {
     "data": {
      "text/html": [
       "<style>\n",
       ".list-inline {list-style: none; margin:0; padding: 0}\n",
       ".list-inline>li {display: inline-block}\n",
       ".list-inline>li:not(:last-child)::after {content: \"\\00b7\"; padding: 0 .5ex}\n",
       "</style>\n",
       "<ol class=list-inline><li>569</li><li>33</li></ol>\n"
      ],
      "text/latex": [
       "\\begin{enumerate*}\n",
       "\\item 569\n",
       "\\item 33\n",
       "\\end{enumerate*}\n"
      ],
      "text/markdown": [
       "1. 569\n",
       "2. 33\n",
       "\n",
       "\n"
      ],
      "text/plain": [
       "[1] 569  33"
      ]
     },
     "metadata": {},
     "output_type": "display_data"
    }
   ],
   "source": [
    "dim(df)"
   ]
  },
  {
   "cell_type": "code",
   "execution_count": 3,
   "id": "4a9b159d",
   "metadata": {},
   "outputs": [
    {
     "data": {
      "text/plain": [
       "       id             diagnosis          radius_mean      texture_mean  \n",
       " Min.   :     8670   Length:569         Min.   : 6.981   Min.   : 9.71  \n",
       " 1st Qu.:   869218   Class :character   1st Qu.:11.700   1st Qu.:16.17  \n",
       " Median :   906024   Mode  :character   Median :13.370   Median :18.84  \n",
       " Mean   : 30371831                      Mean   :14.127   Mean   :19.29  \n",
       " 3rd Qu.:  8813129                      3rd Qu.:15.780   3rd Qu.:21.80  \n",
       " Max.   :911320502                      Max.   :28.110   Max.   :39.28  \n",
       " perimeter_mean     area_mean      smoothness_mean   compactness_mean \n",
       " Min.   : 43.79   Min.   : 143.5   Min.   :0.05263   Min.   :0.01938  \n",
       " 1st Qu.: 75.17   1st Qu.: 420.3   1st Qu.:0.08637   1st Qu.:0.06492  \n",
       " Median : 86.24   Median : 551.1   Median :0.09587   Median :0.09263  \n",
       " Mean   : 91.97   Mean   : 654.9   Mean   :0.09636   Mean   :0.10434  \n",
       " 3rd Qu.:104.10   3rd Qu.: 782.7   3rd Qu.:0.10530   3rd Qu.:0.13040  \n",
       " Max.   :188.50   Max.   :2501.0   Max.   :0.16340   Max.   :0.34540  \n",
       " concavity_mean    concave.points_mean symmetry_mean    fractal_dimension_mean\n",
       " Min.   :0.00000   Min.   :0.00000     Min.   :0.1060   Min.   :0.04996       \n",
       " 1st Qu.:0.02956   1st Qu.:0.02031     1st Qu.:0.1619   1st Qu.:0.05770       \n",
       " Median :0.06154   Median :0.03350     Median :0.1792   Median :0.06154       \n",
       " Mean   :0.08880   Mean   :0.04892     Mean   :0.1812   Mean   :0.06280       \n",
       " 3rd Qu.:0.13070   3rd Qu.:0.07400     3rd Qu.:0.1957   3rd Qu.:0.06612       \n",
       " Max.   :0.42680   Max.   :0.20120     Max.   :0.3040   Max.   :0.09744       \n",
       "   radius_se        texture_se      perimeter_se       area_se       \n",
       " Min.   :0.1115   Min.   :0.3602   Min.   : 0.757   Min.   :  6.802  \n",
       " 1st Qu.:0.2324   1st Qu.:0.8339   1st Qu.: 1.606   1st Qu.: 17.850  \n",
       " Median :0.3242   Median :1.1080   Median : 2.287   Median : 24.530  \n",
       " Mean   :0.4052   Mean   :1.2169   Mean   : 2.866   Mean   : 40.337  \n",
       " 3rd Qu.:0.4789   3rd Qu.:1.4740   3rd Qu.: 3.357   3rd Qu.: 45.190  \n",
       " Max.   :2.8730   Max.   :4.8850   Max.   :21.980   Max.   :542.200  \n",
       " smoothness_se      compactness_se      concavity_se     concave.points_se \n",
       " Min.   :0.001713   Min.   :0.002252   Min.   :0.00000   Min.   :0.000000  \n",
       " 1st Qu.:0.005169   1st Qu.:0.013080   1st Qu.:0.01509   1st Qu.:0.007638  \n",
       " Median :0.006380   Median :0.020450   Median :0.02589   Median :0.010930  \n",
       " Mean   :0.007041   Mean   :0.025478   Mean   :0.03189   Mean   :0.011796  \n",
       " 3rd Qu.:0.008146   3rd Qu.:0.032450   3rd Qu.:0.04205   3rd Qu.:0.014710  \n",
       " Max.   :0.031130   Max.   :0.135400   Max.   :0.39600   Max.   :0.052790  \n",
       "  symmetry_se       fractal_dimension_se  radius_worst   texture_worst  \n",
       " Min.   :0.007882   Min.   :0.0008948    Min.   : 7.93   Min.   :12.02  \n",
       " 1st Qu.:0.015160   1st Qu.:0.0022480    1st Qu.:13.01   1st Qu.:21.08  \n",
       " Median :0.018730   Median :0.0031870    Median :14.97   Median :25.41  \n",
       " Mean   :0.020542   Mean   :0.0037949    Mean   :16.27   Mean   :25.68  \n",
       " 3rd Qu.:0.023480   3rd Qu.:0.0045580    3rd Qu.:18.79   3rd Qu.:29.72  \n",
       " Max.   :0.078950   Max.   :0.0298400    Max.   :36.04   Max.   :49.54  \n",
       " perimeter_worst    area_worst     smoothness_worst  compactness_worst\n",
       " Min.   : 50.41   Min.   : 185.2   Min.   :0.07117   Min.   :0.02729  \n",
       " 1st Qu.: 84.11   1st Qu.: 515.3   1st Qu.:0.11660   1st Qu.:0.14720  \n",
       " Median : 97.66   Median : 686.5   Median :0.13130   Median :0.21190  \n",
       " Mean   :107.26   Mean   : 880.6   Mean   :0.13237   Mean   :0.25427  \n",
       " 3rd Qu.:125.40   3rd Qu.:1084.0   3rd Qu.:0.14600   3rd Qu.:0.33910  \n",
       " Max.   :251.20   Max.   :4254.0   Max.   :0.22260   Max.   :1.05800  \n",
       " concavity_worst  concave.points_worst symmetry_worst   fractal_dimension_worst\n",
       " Min.   :0.0000   Min.   :0.00000      Min.   :0.1565   Min.   :0.05504        \n",
       " 1st Qu.:0.1145   1st Qu.:0.06493      1st Qu.:0.2504   1st Qu.:0.07146        \n",
       " Median :0.2267   Median :0.09993      Median :0.2822   Median :0.08004        \n",
       " Mean   :0.2722   Mean   :0.11461      Mean   :0.2901   Mean   :0.08395        \n",
       " 3rd Qu.:0.3829   3rd Qu.:0.16140      3rd Qu.:0.3179   3rd Qu.:0.09208        \n",
       " Max.   :1.2520   Max.   :0.29100      Max.   :0.6638   Max.   :0.20750        \n",
       "    X          \n",
       " Mode:logical  \n",
       " NA's:569      \n",
       "               \n",
       "               \n",
       "               \n",
       "               "
      ]
     },
     "metadata": {},
     "output_type": "display_data"
    }
   ],
   "source": [
    "summary(df)"
   ]
  },
  {
   "cell_type": "markdown",
   "id": "50d9d471",
   "metadata": {},
   "source": [
    "* perimeter_se, area_se, perimeter_worst, area_worst have outliers\n",
    "* X is a useless variable since it has only one value\n",
    "* diagnosis is a categorical variable having two values\n",
    "* symmetry_se, compactness_se, smoothness_se, fractal_dimension_mean, concave.points_se, concavity_se, smoothness_worst, concave.points_worst will not be considered for analysis since all values are relatively close to each other."
   ]
  },
  {
   "cell_type": "markdown",
   "id": "94af3fff",
   "metadata": {},
   "source": [
    "# Dummy variable creation"
   ]
  },
  {
   "cell_type": "code",
   "execution_count": 4,
   "id": "f15490bd",
   "metadata": {},
   "outputs": [
    {
     "name": "stderr",
     "output_type": "stream",
     "text": [
      "Thank you for using fastDummies!\n",
      "\n",
      "To acknowledge our work, please cite the package:\n",
      "\n",
      "Kaplan, J. & Schlegel, B. (2023). fastDummies: Fast Creation of Dummy (Binary) Columns and Rows from Categorical Variables. Version 1.7.1. URL: https://github.com/jacobkap/fastDummies, https://jacobkap.github.io/fastDummies/.\n",
      "\n"
     ]
    }
   ],
   "source": [
    "library(fastDummies)"
   ]
  },
  {
   "cell_type": "code",
   "execution_count": 5,
   "id": "abd2bf0a",
   "metadata": {},
   "outputs": [],
   "source": [
    "df <- dummy_cols(df, select_column=\"diagnosis\")"
   ]
  },
  {
   "cell_type": "code",
   "execution_count": 6,
   "id": "4f8a0037",
   "metadata": {},
   "outputs": [],
   "source": [
    "# which(colnames(df) == \"concave.points_worst\") # checking the column no corresponding to the variable\n",
    "df <- df[,-34] # diagnosis_B\n",
    "df <- df[,-33] # X\n",
    "df <- df[,-30] # concave.points_worst\n",
    "df <- df[,-27] # smoothness_worst\n",
    "df <- df[,-21] # symmetry_se\n",
    "df <- df[,-20] # concave.points_se\n",
    "df <- df[,-19] # concavity_se\n",
    "df <- df[,-18] # compactness_se\n",
    "df <- df[,-17] # smoothness_se\n",
    "df <- df[,-12] # fractal_dimension_mean\n",
    "df <- df[,-2] # diagnosis"
   ]
  },
  {
   "cell_type": "code",
   "execution_count": 7,
   "id": "c93693cc",
   "metadata": {},
   "outputs": [
    {
     "data": {
      "text/html": [
       "<style>\n",
       ".list-inline {list-style: none; margin:0; padding: 0}\n",
       ".list-inline>li {display: inline-block}\n",
       ".list-inline>li:not(:last-child)::after {content: \"\\00b7\"; padding: 0 .5ex}\n",
       "</style>\n",
       "<ol class=list-inline><li>569</li><li>24</li></ol>\n"
      ],
      "text/latex": [
       "\\begin{enumerate*}\n",
       "\\item 569\n",
       "\\item 24\n",
       "\\end{enumerate*}\n"
      ],
      "text/markdown": [
       "1. 569\n",
       "2. 24\n",
       "\n",
       "\n"
      ],
      "text/plain": [
       "[1] 569  24"
      ]
     },
     "metadata": {},
     "output_type": "display_data"
    }
   ],
   "source": [
    "dim(df)"
   ]
  },
  {
   "cell_type": "code",
   "execution_count": 8,
   "id": "51b32a8f",
   "metadata": {},
   "outputs": [
    {
     "data": {
      "text/html": [
       "<table class=\"dataframe\">\n",
       "<caption>A data.frame: 569 × 24</caption>\n",
       "<thead>\n",
       "\t<tr><th scope=col>id</th><th scope=col>radius_mean</th><th scope=col>texture_mean</th><th scope=col>perimeter_mean</th><th scope=col>area_mean</th><th scope=col>smoothness_mean</th><th scope=col>compactness_mean</th><th scope=col>concavity_mean</th><th scope=col>concave.points_mean</th><th scope=col>symmetry_mean</th><th scope=col>⋯</th><th scope=col>fractal_dimension_se</th><th scope=col>radius_worst</th><th scope=col>texture_worst</th><th scope=col>perimeter_worst</th><th scope=col>area_worst</th><th scope=col>compactness_worst</th><th scope=col>concavity_worst</th><th scope=col>symmetry_worst</th><th scope=col>fractal_dimension_worst</th><th scope=col>diagnosis_M</th></tr>\n",
       "\t<tr><th scope=col>&lt;int&gt;</th><th scope=col>&lt;dbl&gt;</th><th scope=col>&lt;dbl&gt;</th><th scope=col>&lt;dbl&gt;</th><th scope=col>&lt;dbl&gt;</th><th scope=col>&lt;dbl&gt;</th><th scope=col>&lt;dbl&gt;</th><th scope=col>&lt;dbl&gt;</th><th scope=col>&lt;dbl&gt;</th><th scope=col>&lt;dbl&gt;</th><th scope=col>⋯</th><th scope=col>&lt;dbl&gt;</th><th scope=col>&lt;dbl&gt;</th><th scope=col>&lt;dbl&gt;</th><th scope=col>&lt;dbl&gt;</th><th scope=col>&lt;dbl&gt;</th><th scope=col>&lt;dbl&gt;</th><th scope=col>&lt;dbl&gt;</th><th scope=col>&lt;dbl&gt;</th><th scope=col>&lt;dbl&gt;</th><th scope=col>&lt;int&gt;</th></tr>\n",
       "</thead>\n",
       "<tbody>\n",
       "\t<tr><td>  842302</td><td>17.990</td><td>10.38</td><td>122.80</td><td>1001.0</td><td>0.11840</td><td>0.27760</td><td>0.30010</td><td>0.14710</td><td>0.2419</td><td>⋯</td><td>0.006193</td><td>25.38</td><td>17.33</td><td>184.60</td><td>2019.0</td><td>0.6656</td><td>0.71190</td><td>0.4601</td><td>0.11890</td><td>1</td></tr>\n",
       "\t<tr><td>  842517</td><td>20.570</td><td>17.77</td><td>132.90</td><td>1326.0</td><td>0.08474</td><td>0.07864</td><td>0.08690</td><td>0.07017</td><td>0.1812</td><td>⋯</td><td>0.003532</td><td>24.99</td><td>23.41</td><td>158.80</td><td>1956.0</td><td>0.1866</td><td>0.24160</td><td>0.2750</td><td>0.08902</td><td>1</td></tr>\n",
       "\t<tr><td>84300903</td><td>19.690</td><td>21.25</td><td>130.00</td><td>1203.0</td><td>0.10960</td><td>0.15990</td><td>0.19740</td><td>0.12790</td><td>0.2069</td><td>⋯</td><td>0.004571</td><td>23.57</td><td>25.53</td><td>152.50</td><td>1709.0</td><td>0.4245</td><td>0.45040</td><td>0.3613</td><td>0.08758</td><td>1</td></tr>\n",
       "\t<tr><td>84348301</td><td>11.420</td><td>20.38</td><td> 77.58</td><td> 386.1</td><td>0.14250</td><td>0.28390</td><td>0.24140</td><td>0.10520</td><td>0.2597</td><td>⋯</td><td>0.009208</td><td>14.91</td><td>26.50</td><td> 98.87</td><td> 567.7</td><td>0.8663</td><td>0.68690</td><td>0.6638</td><td>0.17300</td><td>1</td></tr>\n",
       "\t<tr><td>84358402</td><td>20.290</td><td>14.34</td><td>135.10</td><td>1297.0</td><td>0.10030</td><td>0.13280</td><td>0.19800</td><td>0.10430</td><td>0.1809</td><td>⋯</td><td>0.005115</td><td>22.54</td><td>16.67</td><td>152.20</td><td>1575.0</td><td>0.2050</td><td>0.40000</td><td>0.2364</td><td>0.07678</td><td>1</td></tr>\n",
       "\t<tr><td>  843786</td><td>12.450</td><td>15.70</td><td> 82.57</td><td> 477.1</td><td>0.12780</td><td>0.17000</td><td>0.15780</td><td>0.08089</td><td>0.2087</td><td>⋯</td><td>0.005082</td><td>15.47</td><td>23.75</td><td>103.40</td><td> 741.6</td><td>0.5249</td><td>0.53550</td><td>0.3985</td><td>0.12440</td><td>1</td></tr>\n",
       "\t<tr><td>  844359</td><td>18.250</td><td>19.98</td><td>119.60</td><td>1040.0</td><td>0.09463</td><td>0.10900</td><td>0.11270</td><td>0.07400</td><td>0.1794</td><td>⋯</td><td>0.002179</td><td>22.88</td><td>27.66</td><td>153.20</td><td>1606.0</td><td>0.2576</td><td>0.37840</td><td>0.3063</td><td>0.08368</td><td>1</td></tr>\n",
       "\t<tr><td>84458202</td><td>13.710</td><td>20.83</td><td> 90.20</td><td> 577.9</td><td>0.11890</td><td>0.16450</td><td>0.09366</td><td>0.05985</td><td>0.2196</td><td>⋯</td><td>0.005412</td><td>17.06</td><td>28.14</td><td>110.60</td><td> 897.0</td><td>0.3682</td><td>0.26780</td><td>0.3196</td><td>0.11510</td><td>1</td></tr>\n",
       "\t<tr><td>  844981</td><td>13.000</td><td>21.82</td><td> 87.50</td><td> 519.8</td><td>0.12730</td><td>0.19320</td><td>0.18590</td><td>0.09353</td><td>0.2350</td><td>⋯</td><td>0.003749</td><td>15.49</td><td>30.73</td><td>106.20</td><td> 739.3</td><td>0.5401</td><td>0.53900</td><td>0.4378</td><td>0.10720</td><td>1</td></tr>\n",
       "\t<tr><td>84501001</td><td>12.460</td><td>24.04</td><td> 83.97</td><td> 475.9</td><td>0.11860</td><td>0.23960</td><td>0.22730</td><td>0.08543</td><td>0.2030</td><td>⋯</td><td>0.010080</td><td>15.09</td><td>40.68</td><td> 97.65</td><td> 711.4</td><td>1.0580</td><td>1.10500</td><td>0.4366</td><td>0.20750</td><td>1</td></tr>\n",
       "\t<tr><td>  845636</td><td>16.020</td><td>23.24</td><td>102.70</td><td> 797.8</td><td>0.08206</td><td>0.06669</td><td>0.03299</td><td>0.03323</td><td>0.1528</td><td>⋯</td><td>0.003042</td><td>19.19</td><td>33.88</td><td>123.80</td><td>1150.0</td><td>0.1551</td><td>0.14590</td><td>0.2948</td><td>0.08452</td><td>1</td></tr>\n",
       "\t<tr><td>84610002</td><td>15.780</td><td>17.89</td><td>103.60</td><td> 781.0</td><td>0.09710</td><td>0.12920</td><td>0.09954</td><td>0.06606</td><td>0.1842</td><td>⋯</td><td>0.004144</td><td>20.42</td><td>27.28</td><td>136.50</td><td>1299.0</td><td>0.5609</td><td>0.39650</td><td>0.3792</td><td>0.10480</td><td>1</td></tr>\n",
       "\t<tr><td>  846226</td><td>19.170</td><td>24.80</td><td>132.40</td><td>1123.0</td><td>0.09740</td><td>0.24580</td><td>0.20650</td><td>0.11180</td><td>0.2397</td><td>⋯</td><td>0.012840</td><td>20.96</td><td>29.94</td><td>151.70</td><td>1332.0</td><td>0.3903</td><td>0.36390</td><td>0.3176</td><td>0.10230</td><td>1</td></tr>\n",
       "\t<tr><td>  846381</td><td>15.850</td><td>23.95</td><td>103.70</td><td> 782.7</td><td>0.08401</td><td>0.10020</td><td>0.09938</td><td>0.05364</td><td>0.1847</td><td>⋯</td><td>0.003002</td><td>16.84</td><td>27.66</td><td>112.00</td><td> 876.5</td><td>0.1924</td><td>0.23220</td><td>0.2809</td><td>0.06287</td><td>1</td></tr>\n",
       "\t<tr><td>84667401</td><td>13.730</td><td>22.61</td><td> 93.60</td><td> 578.3</td><td>0.11310</td><td>0.22930</td><td>0.21280</td><td>0.08025</td><td>0.2069</td><td>⋯</td><td>0.008093</td><td>15.03</td><td>32.01</td><td>108.80</td><td> 697.7</td><td>0.7725</td><td>0.69430</td><td>0.3596</td><td>0.14310</td><td>1</td></tr>\n",
       "\t<tr><td>84799002</td><td>14.540</td><td>27.54</td><td> 96.73</td><td> 658.8</td><td>0.11390</td><td>0.15950</td><td>0.16390</td><td>0.07364</td><td>0.2303</td><td>⋯</td><td>0.005466</td><td>17.46</td><td>37.13</td><td>124.10</td><td> 943.2</td><td>0.6577</td><td>0.70260</td><td>0.4218</td><td>0.13410</td><td>1</td></tr>\n",
       "\t<tr><td>  848406</td><td>14.680</td><td>20.13</td><td> 94.74</td><td> 684.5</td><td>0.09867</td><td>0.07200</td><td>0.07395</td><td>0.05259</td><td>0.1586</td><td>⋯</td><td>0.002085</td><td>19.07</td><td>30.88</td><td>123.40</td><td>1138.0</td><td>0.1871</td><td>0.29140</td><td>0.3029</td><td>0.08216</td><td>1</td></tr>\n",
       "\t<tr><td>84862001</td><td>16.130</td><td>20.68</td><td>108.10</td><td> 798.8</td><td>0.11700</td><td>0.20220</td><td>0.17220</td><td>0.10280</td><td>0.2164</td><td>⋯</td><td>0.004142</td><td>20.96</td><td>31.48</td><td>136.80</td><td>1315.0</td><td>0.4233</td><td>0.47840</td><td>0.3706</td><td>0.11420</td><td>1</td></tr>\n",
       "\t<tr><td>  849014</td><td>19.810</td><td>22.15</td><td>130.00</td><td>1260.0</td><td>0.09831</td><td>0.10270</td><td>0.14790</td><td>0.09498</td><td>0.1582</td><td>⋯</td><td>0.001997</td><td>27.32</td><td>30.88</td><td>186.80</td><td>2398.0</td><td>0.3150</td><td>0.53720</td><td>0.2768</td><td>0.07615</td><td>1</td></tr>\n",
       "\t<tr><td> 8510426</td><td>13.540</td><td>14.36</td><td> 87.46</td><td> 566.3</td><td>0.09779</td><td>0.08129</td><td>0.06664</td><td>0.04781</td><td>0.1885</td><td>⋯</td><td>0.002300</td><td>15.11</td><td>19.26</td><td> 99.70</td><td> 711.2</td><td>0.1773</td><td>0.23900</td><td>0.2977</td><td>0.07259</td><td>0</td></tr>\n",
       "\t<tr><td> 8510653</td><td>13.080</td><td>15.71</td><td> 85.63</td><td> 520.0</td><td>0.10750</td><td>0.12700</td><td>0.04568</td><td>0.03110</td><td>0.1967</td><td>⋯</td><td>0.002425</td><td>14.50</td><td>20.49</td><td> 96.09</td><td> 630.5</td><td>0.2776</td><td>0.18900</td><td>0.3184</td><td>0.08183</td><td>0</td></tr>\n",
       "\t<tr><td> 8510824</td><td> 9.504</td><td>12.44</td><td> 60.34</td><td> 273.9</td><td>0.10240</td><td>0.06492</td><td>0.02956</td><td>0.02076</td><td>0.1815</td><td>⋯</td><td>0.002968</td><td>10.23</td><td>15.66</td><td> 65.13</td><td> 314.9</td><td>0.1148</td><td>0.08867</td><td>0.2450</td><td>0.07773</td><td>0</td></tr>\n",
       "\t<tr><td> 8511133</td><td>15.340</td><td>14.26</td><td>102.50</td><td> 704.4</td><td>0.10730</td><td>0.21350</td><td>0.20770</td><td>0.09756</td><td>0.2521</td><td>⋯</td><td>0.004394</td><td>18.07</td><td>19.08</td><td>125.10</td><td> 980.9</td><td>0.5954</td><td>0.63050</td><td>0.4667</td><td>0.09946</td><td>1</td></tr>\n",
       "\t<tr><td>  851509</td><td>21.160</td><td>23.04</td><td>137.20</td><td>1404.0</td><td>0.09428</td><td>0.10220</td><td>0.10970</td><td>0.08632</td><td>0.1769</td><td>⋯</td><td>0.001987</td><td>29.17</td><td>35.59</td><td>188.00</td><td>2615.0</td><td>0.2600</td><td>0.31550</td><td>0.2822</td><td>0.07526</td><td>1</td></tr>\n",
       "\t<tr><td>  852552</td><td>16.650</td><td>21.38</td><td>110.00</td><td> 904.6</td><td>0.11210</td><td>0.14570</td><td>0.15250</td><td>0.09170</td><td>0.1995</td><td>⋯</td><td>0.002801</td><td>26.46</td><td>31.56</td><td>177.00</td><td>2215.0</td><td>0.3578</td><td>0.46950</td><td>0.3613</td><td>0.09564</td><td>1</td></tr>\n",
       "\t<tr><td>  852631</td><td>17.140</td><td>16.40</td><td>116.00</td><td> 912.7</td><td>0.11860</td><td>0.22760</td><td>0.22290</td><td>0.14010</td><td>0.3040</td><td>⋯</td><td>0.007444</td><td>22.25</td><td>21.40</td><td>152.40</td><td>1461.0</td><td>0.3949</td><td>0.38530</td><td>0.4066</td><td>0.10590</td><td>1</td></tr>\n",
       "\t<tr><td>  852763</td><td>14.580</td><td>21.53</td><td> 97.41</td><td> 644.8</td><td>0.10540</td><td>0.18680</td><td>0.14250</td><td>0.08783</td><td>0.2252</td><td>⋯</td><td>0.003711</td><td>17.62</td><td>33.21</td><td>122.40</td><td> 896.9</td><td>0.6643</td><td>0.55390</td><td>0.4264</td><td>0.12750</td><td>1</td></tr>\n",
       "\t<tr><td>  852781</td><td>18.610</td><td>20.25</td><td>122.10</td><td>1094.0</td><td>0.09440</td><td>0.10660</td><td>0.14900</td><td>0.07731</td><td>0.1697</td><td>⋯</td><td>0.004217</td><td>21.31</td><td>27.26</td><td>139.90</td><td>1403.0</td><td>0.2117</td><td>0.34460</td><td>0.2341</td><td>0.07421</td><td>1</td></tr>\n",
       "\t<tr><td>  852973</td><td>15.300</td><td>25.27</td><td>102.40</td><td> 732.4</td><td>0.10820</td><td>0.16970</td><td>0.16830</td><td>0.08751</td><td>0.1926</td><td>⋯</td><td>0.002967</td><td>20.27</td><td>36.71</td><td>149.30</td><td>1269.0</td><td>0.6110</td><td>0.63350</td><td>0.4027</td><td>0.09876</td><td>1</td></tr>\n",
       "\t<tr><td>  853201</td><td>17.570</td><td>15.05</td><td>115.00</td><td> 955.1</td><td>0.09847</td><td>0.11570</td><td>0.09875</td><td>0.07953</td><td>0.1739</td><td>⋯</td><td>0.003742</td><td>20.01</td><td>19.52</td><td>134.90</td><td>1227.0</td><td>0.2812</td><td>0.24890</td><td>0.2756</td><td>0.07919</td><td>1</td></tr>\n",
       "\t<tr><td>⋮</td><td>⋮</td><td>⋮</td><td>⋮</td><td>⋮</td><td>⋮</td><td>⋮</td><td>⋮</td><td>⋮</td><td>⋮</td><td>⋱</td><td>⋮</td><td>⋮</td><td>⋮</td><td>⋮</td><td>⋮</td><td>⋮</td><td>⋮</td><td>⋮</td><td>⋮</td><td>⋮</td></tr>\n",
       "\t<tr><td>921362</td><td> 7.691</td><td>25.44</td><td> 48.34</td><td> 170.4</td><td>0.08668</td><td>0.11990</td><td>0.092520</td><td>0.013640</td><td>0.2037</td><td>⋯</td><td>0.007551</td><td> 8.678</td><td>31.89</td><td> 54.49</td><td> 223.6</td><td>0.30640</td><td>0.33930</td><td>0.2790</td><td>0.10660</td><td>0</td></tr>\n",
       "\t<tr><td>921385</td><td>11.540</td><td>14.44</td><td> 74.65</td><td> 402.9</td><td>0.09984</td><td>0.11200</td><td>0.067370</td><td>0.025940</td><td>0.1818</td><td>⋯</td><td>0.005512</td><td>12.260</td><td>19.68</td><td> 78.78</td><td> 457.8</td><td>0.21180</td><td>0.17970</td><td>0.2329</td><td>0.08134</td><td>0</td></tr>\n",
       "\t<tr><td>921386</td><td>14.470</td><td>24.99</td><td> 95.81</td><td> 656.4</td><td>0.08837</td><td>0.12300</td><td>0.100900</td><td>0.038900</td><td>0.1872</td><td>⋯</td><td>0.006111</td><td>16.220</td><td>31.73</td><td>113.50</td><td> 808.9</td><td>0.42020</td><td>0.40400</td><td>0.3187</td><td>0.10230</td><td>0</td></tr>\n",
       "\t<tr><td>921644</td><td>14.740</td><td>25.42</td><td> 94.70</td><td> 668.6</td><td>0.08275</td><td>0.07214</td><td>0.041050</td><td>0.030270</td><td>0.1840</td><td>⋯</td><td>0.002626</td><td>16.510</td><td>32.29</td><td>107.40</td><td> 826.4</td><td>0.13760</td><td>0.16110</td><td>0.2722</td><td>0.06956</td><td>0</td></tr>\n",
       "\t<tr><td>922296</td><td>13.210</td><td>28.06</td><td> 84.88</td><td> 538.4</td><td>0.08671</td><td>0.06877</td><td>0.029870</td><td>0.032750</td><td>0.1628</td><td>⋯</td><td>0.001343</td><td>14.370</td><td>37.17</td><td> 92.48</td><td> 629.6</td><td>0.13810</td><td>0.10620</td><td>0.2473</td><td>0.06443</td><td>0</td></tr>\n",
       "\t<tr><td>922297</td><td>13.870</td><td>20.70</td><td> 89.77</td><td> 584.8</td><td>0.09578</td><td>0.10180</td><td>0.036880</td><td>0.023690</td><td>0.1620</td><td>⋯</td><td>0.003599</td><td>15.050</td><td>24.75</td><td> 99.17</td><td> 688.6</td><td>0.20370</td><td>0.13770</td><td>0.2249</td><td>0.08492</td><td>0</td></tr>\n",
       "\t<tr><td>922576</td><td>13.620</td><td>23.23</td><td> 87.19</td><td> 573.2</td><td>0.09246</td><td>0.06747</td><td>0.029740</td><td>0.024430</td><td>0.1664</td><td>⋯</td><td>0.002583</td><td>15.350</td><td>29.09</td><td> 97.58</td><td> 729.8</td><td>0.15170</td><td>0.10490</td><td>0.2642</td><td>0.06953</td><td>0</td></tr>\n",
       "\t<tr><td>922577</td><td>10.320</td><td>16.35</td><td> 65.31</td><td> 324.9</td><td>0.09434</td><td>0.04994</td><td>0.010120</td><td>0.005495</td><td>0.1885</td><td>⋯</td><td>0.002606</td><td>11.250</td><td>21.77</td><td> 71.12</td><td> 384.9</td><td>0.08842</td><td>0.04384</td><td>0.2681</td><td>0.07399</td><td>0</td></tr>\n",
       "\t<tr><td>922840</td><td>10.260</td><td>16.58</td><td> 65.85</td><td> 320.8</td><td>0.08877</td><td>0.08066</td><td>0.043580</td><td>0.024380</td><td>0.1669</td><td>⋯</td><td>0.005890</td><td>10.830</td><td>22.04</td><td> 71.08</td><td> 357.4</td><td>0.22460</td><td>0.17830</td><td>0.2691</td><td>0.09479</td><td>0</td></tr>\n",
       "\t<tr><td>923169</td><td> 9.683</td><td>19.34</td><td> 61.05</td><td> 285.7</td><td>0.08491</td><td>0.05030</td><td>0.023370</td><td>0.009615</td><td>0.1580</td><td>⋯</td><td>0.004154</td><td>10.930</td><td>25.59</td><td> 69.10</td><td> 364.2</td><td>0.09546</td><td>0.09350</td><td>0.2552</td><td>0.07920</td><td>0</td></tr>\n",
       "\t<tr><td>923465</td><td>10.820</td><td>24.21</td><td> 68.89</td><td> 361.6</td><td>0.08192</td><td>0.06602</td><td>0.015480</td><td>0.008160</td><td>0.1976</td><td>⋯</td><td>0.002977</td><td>13.030</td><td>31.45</td><td> 83.90</td><td> 505.6</td><td>0.16330</td><td>0.06194</td><td>0.3059</td><td>0.07626</td><td>0</td></tr>\n",
       "\t<tr><td>923748</td><td>10.860</td><td>21.48</td><td> 68.51</td><td> 360.5</td><td>0.07431</td><td>0.04227</td><td>0.000000</td><td>0.000000</td><td>0.1661</td><td>⋯</td><td>0.002228</td><td>11.660</td><td>24.77</td><td> 74.08</td><td> 412.3</td><td>0.07348</td><td>0.00000</td><td>0.2458</td><td>0.06592</td><td>0</td></tr>\n",
       "\t<tr><td>923780</td><td>11.130</td><td>22.44</td><td> 71.49</td><td> 378.4</td><td>0.09566</td><td>0.08194</td><td>0.048240</td><td>0.022570</td><td>0.2030</td><td>⋯</td><td>0.004723</td><td>12.020</td><td>28.26</td><td> 77.80</td><td> 436.6</td><td>0.17820</td><td>0.15640</td><td>0.3169</td><td>0.08032</td><td>0</td></tr>\n",
       "\t<tr><td>924084</td><td>12.770</td><td>29.43</td><td> 81.35</td><td> 507.9</td><td>0.08276</td><td>0.04234</td><td>0.019970</td><td>0.014990</td><td>0.1539</td><td>⋯</td><td>0.001726</td><td>13.870</td><td>36.00</td><td> 88.10</td><td> 594.7</td><td>0.10640</td><td>0.08653</td><td>0.2407</td><td>0.06484</td><td>0</td></tr>\n",
       "\t<tr><td>924342</td><td> 9.333</td><td>21.94</td><td> 59.01</td><td> 264.0</td><td>0.09240</td><td>0.05605</td><td>0.039960</td><td>0.012820</td><td>0.1692</td><td>⋯</td><td>0.004623</td><td> 9.845</td><td>25.05</td><td> 62.86</td><td> 295.8</td><td>0.08298</td><td>0.07993</td><td>0.2435</td><td>0.07393</td><td>0</td></tr>\n",
       "\t<tr><td>924632</td><td>12.880</td><td>28.92</td><td> 82.50</td><td> 514.3</td><td>0.08123</td><td>0.05824</td><td>0.061950</td><td>0.023430</td><td>0.1566</td><td>⋯</td><td>0.002801</td><td>13.890</td><td>35.74</td><td> 88.84</td><td> 595.7</td><td>0.16200</td><td>0.24390</td><td>0.2372</td><td>0.07242</td><td>0</td></tr>\n",
       "\t<tr><td>924934</td><td>10.290</td><td>27.61</td><td> 65.67</td><td> 321.4</td><td>0.09030</td><td>0.07658</td><td>0.059990</td><td>0.027380</td><td>0.1593</td><td>⋯</td><td>0.004938</td><td>10.840</td><td>34.91</td><td> 69.57</td><td> 357.6</td><td>0.17100</td><td>0.20000</td><td>0.2226</td><td>0.08283</td><td>0</td></tr>\n",
       "\t<tr><td>924964</td><td>10.160</td><td>19.59</td><td> 64.73</td><td> 311.7</td><td>0.10030</td><td>0.07504</td><td>0.005025</td><td>0.011160</td><td>0.1791</td><td>⋯</td><td>0.002278</td><td>10.650</td><td>22.88</td><td> 67.88</td><td> 347.3</td><td>0.12000</td><td>0.01005</td><td>0.2262</td><td>0.06742</td><td>0</td></tr>\n",
       "\t<tr><td>925236</td><td> 9.423</td><td>27.88</td><td> 59.26</td><td> 271.3</td><td>0.08123</td><td>0.04971</td><td>0.000000</td><td>0.000000</td><td>0.1742</td><td>⋯</td><td>0.003324</td><td>10.490</td><td>34.24</td><td> 66.50</td><td> 330.6</td><td>0.07158</td><td>0.00000</td><td>0.2475</td><td>0.06969</td><td>0</td></tr>\n",
       "\t<tr><td>925277</td><td>14.590</td><td>22.68</td><td> 96.39</td><td> 657.1</td><td>0.08473</td><td>0.13300</td><td>0.102900</td><td>0.037360</td><td>0.1454</td><td>⋯</td><td>0.004406</td><td>15.480</td><td>27.27</td><td>105.90</td><td> 733.5</td><td>0.31710</td><td>0.36620</td><td>0.2258</td><td>0.08004</td><td>0</td></tr>\n",
       "\t<tr><td>925291</td><td>11.510</td><td>23.93</td><td> 74.52</td><td> 403.5</td><td>0.09261</td><td>0.10210</td><td>0.111200</td><td>0.041050</td><td>0.1388</td><td>⋯</td><td>0.004738</td><td>12.480</td><td>37.16</td><td> 82.28</td><td> 474.2</td><td>0.25170</td><td>0.36300</td><td>0.2112</td><td>0.08732</td><td>0</td></tr>\n",
       "\t<tr><td>925292</td><td>14.050</td><td>27.15</td><td> 91.38</td><td> 600.4</td><td>0.09929</td><td>0.11260</td><td>0.044620</td><td>0.043040</td><td>0.1537</td><td>⋯</td><td>0.005304</td><td>15.300</td><td>33.17</td><td>100.20</td><td> 706.7</td><td>0.22640</td><td>0.13260</td><td>0.2250</td><td>0.08321</td><td>0</td></tr>\n",
       "\t<tr><td>925311</td><td>11.200</td><td>29.37</td><td> 70.67</td><td> 386.0</td><td>0.07449</td><td>0.03558</td><td>0.000000</td><td>0.000000</td><td>0.1060</td><td>⋯</td><td>0.001773</td><td>11.920</td><td>38.30</td><td> 75.19</td><td> 439.6</td><td>0.05494</td><td>0.00000</td><td>0.1566</td><td>0.05905</td><td>0</td></tr>\n",
       "\t<tr><td>925622</td><td>15.220</td><td>30.62</td><td>103.40</td><td> 716.9</td><td>0.10480</td><td>0.20870</td><td>0.255000</td><td>0.094290</td><td>0.2128</td><td>⋯</td><td>0.006142</td><td>17.520</td><td>42.79</td><td>128.70</td><td> 915.0</td><td>0.79170</td><td>1.17000</td><td>0.4089</td><td>0.14090</td><td>1</td></tr>\n",
       "\t<tr><td>926125</td><td>20.920</td><td>25.09</td><td>143.00</td><td>1347.0</td><td>0.10990</td><td>0.22360</td><td>0.317400</td><td>0.147400</td><td>0.2149</td><td>⋯</td><td>0.006213</td><td>24.290</td><td>29.41</td><td>179.10</td><td>1819.0</td><td>0.41860</td><td>0.65990</td><td>0.2929</td><td>0.09873</td><td>1</td></tr>\n",
       "\t<tr><td>926424</td><td>21.560</td><td>22.39</td><td>142.00</td><td>1479.0</td><td>0.11100</td><td>0.11590</td><td>0.243900</td><td>0.138900</td><td>0.1726</td><td>⋯</td><td>0.004239</td><td>25.450</td><td>26.40</td><td>166.10</td><td>2027.0</td><td>0.21130</td><td>0.41070</td><td>0.2060</td><td>0.07115</td><td>1</td></tr>\n",
       "\t<tr><td>926682</td><td>20.130</td><td>28.25</td><td>131.20</td><td>1261.0</td><td>0.09780</td><td>0.10340</td><td>0.144000</td><td>0.097910</td><td>0.1752</td><td>⋯</td><td>0.002498</td><td>23.690</td><td>38.25</td><td>155.00</td><td>1731.0</td><td>0.19220</td><td>0.32150</td><td>0.2572</td><td>0.06637</td><td>1</td></tr>\n",
       "\t<tr><td>926954</td><td>16.600</td><td>28.08</td><td>108.30</td><td> 858.1</td><td>0.08455</td><td>0.10230</td><td>0.092510</td><td>0.053020</td><td>0.1590</td><td>⋯</td><td>0.003892</td><td>18.980</td><td>34.12</td><td>126.70</td><td>1124.0</td><td>0.30940</td><td>0.34030</td><td>0.2218</td><td>0.07820</td><td>1</td></tr>\n",
       "\t<tr><td>927241</td><td>20.600</td><td>29.33</td><td>140.10</td><td>1265.0</td><td>0.11780</td><td>0.27700</td><td>0.351400</td><td>0.152000</td><td>0.2397</td><td>⋯</td><td>0.006185</td><td>25.740</td><td>39.42</td><td>184.60</td><td>1821.0</td><td>0.86810</td><td>0.93870</td><td>0.4087</td><td>0.12400</td><td>1</td></tr>\n",
       "\t<tr><td> 92751</td><td> 7.760</td><td>24.54</td><td> 47.92</td><td> 181.0</td><td>0.05263</td><td>0.04362</td><td>0.000000</td><td>0.000000</td><td>0.1587</td><td>⋯</td><td>0.002783</td><td> 9.456</td><td>30.37</td><td> 59.16</td><td> 268.6</td><td>0.06444</td><td>0.00000</td><td>0.2871</td><td>0.07039</td><td>0</td></tr>\n",
       "</tbody>\n",
       "</table>\n"
      ],
      "text/latex": [
       "A data.frame: 569 × 24\n",
       "\\begin{tabular}{lllllllllllllllllllll}\n",
       " id & radius\\_mean & texture\\_mean & perimeter\\_mean & area\\_mean & smoothness\\_mean & compactness\\_mean & concavity\\_mean & concave.points\\_mean & symmetry\\_mean & ⋯ & fractal\\_dimension\\_se & radius\\_worst & texture\\_worst & perimeter\\_worst & area\\_worst & compactness\\_worst & concavity\\_worst & symmetry\\_worst & fractal\\_dimension\\_worst & diagnosis\\_M\\\\\n",
       " <int> & <dbl> & <dbl> & <dbl> & <dbl> & <dbl> & <dbl> & <dbl> & <dbl> & <dbl> & ⋯ & <dbl> & <dbl> & <dbl> & <dbl> & <dbl> & <dbl> & <dbl> & <dbl> & <dbl> & <int>\\\\\n",
       "\\hline\n",
       "\t   842302 & 17.990 & 10.38 & 122.80 & 1001.0 & 0.11840 & 0.27760 & 0.30010 & 0.14710 & 0.2419 & ⋯ & 0.006193 & 25.38 & 17.33 & 184.60 & 2019.0 & 0.6656 & 0.71190 & 0.4601 & 0.11890 & 1\\\\\n",
       "\t   842517 & 20.570 & 17.77 & 132.90 & 1326.0 & 0.08474 & 0.07864 & 0.08690 & 0.07017 & 0.1812 & ⋯ & 0.003532 & 24.99 & 23.41 & 158.80 & 1956.0 & 0.1866 & 0.24160 & 0.2750 & 0.08902 & 1\\\\\n",
       "\t 84300903 & 19.690 & 21.25 & 130.00 & 1203.0 & 0.10960 & 0.15990 & 0.19740 & 0.12790 & 0.2069 & ⋯ & 0.004571 & 23.57 & 25.53 & 152.50 & 1709.0 & 0.4245 & 0.45040 & 0.3613 & 0.08758 & 1\\\\\n",
       "\t 84348301 & 11.420 & 20.38 &  77.58 &  386.1 & 0.14250 & 0.28390 & 0.24140 & 0.10520 & 0.2597 & ⋯ & 0.009208 & 14.91 & 26.50 &  98.87 &  567.7 & 0.8663 & 0.68690 & 0.6638 & 0.17300 & 1\\\\\n",
       "\t 84358402 & 20.290 & 14.34 & 135.10 & 1297.0 & 0.10030 & 0.13280 & 0.19800 & 0.10430 & 0.1809 & ⋯ & 0.005115 & 22.54 & 16.67 & 152.20 & 1575.0 & 0.2050 & 0.40000 & 0.2364 & 0.07678 & 1\\\\\n",
       "\t   843786 & 12.450 & 15.70 &  82.57 &  477.1 & 0.12780 & 0.17000 & 0.15780 & 0.08089 & 0.2087 & ⋯ & 0.005082 & 15.47 & 23.75 & 103.40 &  741.6 & 0.5249 & 0.53550 & 0.3985 & 0.12440 & 1\\\\\n",
       "\t   844359 & 18.250 & 19.98 & 119.60 & 1040.0 & 0.09463 & 0.10900 & 0.11270 & 0.07400 & 0.1794 & ⋯ & 0.002179 & 22.88 & 27.66 & 153.20 & 1606.0 & 0.2576 & 0.37840 & 0.3063 & 0.08368 & 1\\\\\n",
       "\t 84458202 & 13.710 & 20.83 &  90.20 &  577.9 & 0.11890 & 0.16450 & 0.09366 & 0.05985 & 0.2196 & ⋯ & 0.005412 & 17.06 & 28.14 & 110.60 &  897.0 & 0.3682 & 0.26780 & 0.3196 & 0.11510 & 1\\\\\n",
       "\t   844981 & 13.000 & 21.82 &  87.50 &  519.8 & 0.12730 & 0.19320 & 0.18590 & 0.09353 & 0.2350 & ⋯ & 0.003749 & 15.49 & 30.73 & 106.20 &  739.3 & 0.5401 & 0.53900 & 0.4378 & 0.10720 & 1\\\\\n",
       "\t 84501001 & 12.460 & 24.04 &  83.97 &  475.9 & 0.11860 & 0.23960 & 0.22730 & 0.08543 & 0.2030 & ⋯ & 0.010080 & 15.09 & 40.68 &  97.65 &  711.4 & 1.0580 & 1.10500 & 0.4366 & 0.20750 & 1\\\\\n",
       "\t   845636 & 16.020 & 23.24 & 102.70 &  797.8 & 0.08206 & 0.06669 & 0.03299 & 0.03323 & 0.1528 & ⋯ & 0.003042 & 19.19 & 33.88 & 123.80 & 1150.0 & 0.1551 & 0.14590 & 0.2948 & 0.08452 & 1\\\\\n",
       "\t 84610002 & 15.780 & 17.89 & 103.60 &  781.0 & 0.09710 & 0.12920 & 0.09954 & 0.06606 & 0.1842 & ⋯ & 0.004144 & 20.42 & 27.28 & 136.50 & 1299.0 & 0.5609 & 0.39650 & 0.3792 & 0.10480 & 1\\\\\n",
       "\t   846226 & 19.170 & 24.80 & 132.40 & 1123.0 & 0.09740 & 0.24580 & 0.20650 & 0.11180 & 0.2397 & ⋯ & 0.012840 & 20.96 & 29.94 & 151.70 & 1332.0 & 0.3903 & 0.36390 & 0.3176 & 0.10230 & 1\\\\\n",
       "\t   846381 & 15.850 & 23.95 & 103.70 &  782.7 & 0.08401 & 0.10020 & 0.09938 & 0.05364 & 0.1847 & ⋯ & 0.003002 & 16.84 & 27.66 & 112.00 &  876.5 & 0.1924 & 0.23220 & 0.2809 & 0.06287 & 1\\\\\n",
       "\t 84667401 & 13.730 & 22.61 &  93.60 &  578.3 & 0.11310 & 0.22930 & 0.21280 & 0.08025 & 0.2069 & ⋯ & 0.008093 & 15.03 & 32.01 & 108.80 &  697.7 & 0.7725 & 0.69430 & 0.3596 & 0.14310 & 1\\\\\n",
       "\t 84799002 & 14.540 & 27.54 &  96.73 &  658.8 & 0.11390 & 0.15950 & 0.16390 & 0.07364 & 0.2303 & ⋯ & 0.005466 & 17.46 & 37.13 & 124.10 &  943.2 & 0.6577 & 0.70260 & 0.4218 & 0.13410 & 1\\\\\n",
       "\t   848406 & 14.680 & 20.13 &  94.74 &  684.5 & 0.09867 & 0.07200 & 0.07395 & 0.05259 & 0.1586 & ⋯ & 0.002085 & 19.07 & 30.88 & 123.40 & 1138.0 & 0.1871 & 0.29140 & 0.3029 & 0.08216 & 1\\\\\n",
       "\t 84862001 & 16.130 & 20.68 & 108.10 &  798.8 & 0.11700 & 0.20220 & 0.17220 & 0.10280 & 0.2164 & ⋯ & 0.004142 & 20.96 & 31.48 & 136.80 & 1315.0 & 0.4233 & 0.47840 & 0.3706 & 0.11420 & 1\\\\\n",
       "\t   849014 & 19.810 & 22.15 & 130.00 & 1260.0 & 0.09831 & 0.10270 & 0.14790 & 0.09498 & 0.1582 & ⋯ & 0.001997 & 27.32 & 30.88 & 186.80 & 2398.0 & 0.3150 & 0.53720 & 0.2768 & 0.07615 & 1\\\\\n",
       "\t  8510426 & 13.540 & 14.36 &  87.46 &  566.3 & 0.09779 & 0.08129 & 0.06664 & 0.04781 & 0.1885 & ⋯ & 0.002300 & 15.11 & 19.26 &  99.70 &  711.2 & 0.1773 & 0.23900 & 0.2977 & 0.07259 & 0\\\\\n",
       "\t  8510653 & 13.080 & 15.71 &  85.63 &  520.0 & 0.10750 & 0.12700 & 0.04568 & 0.03110 & 0.1967 & ⋯ & 0.002425 & 14.50 & 20.49 &  96.09 &  630.5 & 0.2776 & 0.18900 & 0.3184 & 0.08183 & 0\\\\\n",
       "\t  8510824 &  9.504 & 12.44 &  60.34 &  273.9 & 0.10240 & 0.06492 & 0.02956 & 0.02076 & 0.1815 & ⋯ & 0.002968 & 10.23 & 15.66 &  65.13 &  314.9 & 0.1148 & 0.08867 & 0.2450 & 0.07773 & 0\\\\\n",
       "\t  8511133 & 15.340 & 14.26 & 102.50 &  704.4 & 0.10730 & 0.21350 & 0.20770 & 0.09756 & 0.2521 & ⋯ & 0.004394 & 18.07 & 19.08 & 125.10 &  980.9 & 0.5954 & 0.63050 & 0.4667 & 0.09946 & 1\\\\\n",
       "\t   851509 & 21.160 & 23.04 & 137.20 & 1404.0 & 0.09428 & 0.10220 & 0.10970 & 0.08632 & 0.1769 & ⋯ & 0.001987 & 29.17 & 35.59 & 188.00 & 2615.0 & 0.2600 & 0.31550 & 0.2822 & 0.07526 & 1\\\\\n",
       "\t   852552 & 16.650 & 21.38 & 110.00 &  904.6 & 0.11210 & 0.14570 & 0.15250 & 0.09170 & 0.1995 & ⋯ & 0.002801 & 26.46 & 31.56 & 177.00 & 2215.0 & 0.3578 & 0.46950 & 0.3613 & 0.09564 & 1\\\\\n",
       "\t   852631 & 17.140 & 16.40 & 116.00 &  912.7 & 0.11860 & 0.22760 & 0.22290 & 0.14010 & 0.3040 & ⋯ & 0.007444 & 22.25 & 21.40 & 152.40 & 1461.0 & 0.3949 & 0.38530 & 0.4066 & 0.10590 & 1\\\\\n",
       "\t   852763 & 14.580 & 21.53 &  97.41 &  644.8 & 0.10540 & 0.18680 & 0.14250 & 0.08783 & 0.2252 & ⋯ & 0.003711 & 17.62 & 33.21 & 122.40 &  896.9 & 0.6643 & 0.55390 & 0.4264 & 0.12750 & 1\\\\\n",
       "\t   852781 & 18.610 & 20.25 & 122.10 & 1094.0 & 0.09440 & 0.10660 & 0.14900 & 0.07731 & 0.1697 & ⋯ & 0.004217 & 21.31 & 27.26 & 139.90 & 1403.0 & 0.2117 & 0.34460 & 0.2341 & 0.07421 & 1\\\\\n",
       "\t   852973 & 15.300 & 25.27 & 102.40 &  732.4 & 0.10820 & 0.16970 & 0.16830 & 0.08751 & 0.1926 & ⋯ & 0.002967 & 20.27 & 36.71 & 149.30 & 1269.0 & 0.6110 & 0.63350 & 0.4027 & 0.09876 & 1\\\\\n",
       "\t   853201 & 17.570 & 15.05 & 115.00 &  955.1 & 0.09847 & 0.11570 & 0.09875 & 0.07953 & 0.1739 & ⋯ & 0.003742 & 20.01 & 19.52 & 134.90 & 1227.0 & 0.2812 & 0.24890 & 0.2756 & 0.07919 & 1\\\\\n",
       "\t ⋮ & ⋮ & ⋮ & ⋮ & ⋮ & ⋮ & ⋮ & ⋮ & ⋮ & ⋮ & ⋱ & ⋮ & ⋮ & ⋮ & ⋮ & ⋮ & ⋮ & ⋮ & ⋮ & ⋮ & ⋮\\\\\n",
       "\t 921362 &  7.691 & 25.44 &  48.34 &  170.4 & 0.08668 & 0.11990 & 0.092520 & 0.013640 & 0.2037 & ⋯ & 0.007551 &  8.678 & 31.89 &  54.49 &  223.6 & 0.30640 & 0.33930 & 0.2790 & 0.10660 & 0\\\\\n",
       "\t 921385 & 11.540 & 14.44 &  74.65 &  402.9 & 0.09984 & 0.11200 & 0.067370 & 0.025940 & 0.1818 & ⋯ & 0.005512 & 12.260 & 19.68 &  78.78 &  457.8 & 0.21180 & 0.17970 & 0.2329 & 0.08134 & 0\\\\\n",
       "\t 921386 & 14.470 & 24.99 &  95.81 &  656.4 & 0.08837 & 0.12300 & 0.100900 & 0.038900 & 0.1872 & ⋯ & 0.006111 & 16.220 & 31.73 & 113.50 &  808.9 & 0.42020 & 0.40400 & 0.3187 & 0.10230 & 0\\\\\n",
       "\t 921644 & 14.740 & 25.42 &  94.70 &  668.6 & 0.08275 & 0.07214 & 0.041050 & 0.030270 & 0.1840 & ⋯ & 0.002626 & 16.510 & 32.29 & 107.40 &  826.4 & 0.13760 & 0.16110 & 0.2722 & 0.06956 & 0\\\\\n",
       "\t 922296 & 13.210 & 28.06 &  84.88 &  538.4 & 0.08671 & 0.06877 & 0.029870 & 0.032750 & 0.1628 & ⋯ & 0.001343 & 14.370 & 37.17 &  92.48 &  629.6 & 0.13810 & 0.10620 & 0.2473 & 0.06443 & 0\\\\\n",
       "\t 922297 & 13.870 & 20.70 &  89.77 &  584.8 & 0.09578 & 0.10180 & 0.036880 & 0.023690 & 0.1620 & ⋯ & 0.003599 & 15.050 & 24.75 &  99.17 &  688.6 & 0.20370 & 0.13770 & 0.2249 & 0.08492 & 0\\\\\n",
       "\t 922576 & 13.620 & 23.23 &  87.19 &  573.2 & 0.09246 & 0.06747 & 0.029740 & 0.024430 & 0.1664 & ⋯ & 0.002583 & 15.350 & 29.09 &  97.58 &  729.8 & 0.15170 & 0.10490 & 0.2642 & 0.06953 & 0\\\\\n",
       "\t 922577 & 10.320 & 16.35 &  65.31 &  324.9 & 0.09434 & 0.04994 & 0.010120 & 0.005495 & 0.1885 & ⋯ & 0.002606 & 11.250 & 21.77 &  71.12 &  384.9 & 0.08842 & 0.04384 & 0.2681 & 0.07399 & 0\\\\\n",
       "\t 922840 & 10.260 & 16.58 &  65.85 &  320.8 & 0.08877 & 0.08066 & 0.043580 & 0.024380 & 0.1669 & ⋯ & 0.005890 & 10.830 & 22.04 &  71.08 &  357.4 & 0.22460 & 0.17830 & 0.2691 & 0.09479 & 0\\\\\n",
       "\t 923169 &  9.683 & 19.34 &  61.05 &  285.7 & 0.08491 & 0.05030 & 0.023370 & 0.009615 & 0.1580 & ⋯ & 0.004154 & 10.930 & 25.59 &  69.10 &  364.2 & 0.09546 & 0.09350 & 0.2552 & 0.07920 & 0\\\\\n",
       "\t 923465 & 10.820 & 24.21 &  68.89 &  361.6 & 0.08192 & 0.06602 & 0.015480 & 0.008160 & 0.1976 & ⋯ & 0.002977 & 13.030 & 31.45 &  83.90 &  505.6 & 0.16330 & 0.06194 & 0.3059 & 0.07626 & 0\\\\\n",
       "\t 923748 & 10.860 & 21.48 &  68.51 &  360.5 & 0.07431 & 0.04227 & 0.000000 & 0.000000 & 0.1661 & ⋯ & 0.002228 & 11.660 & 24.77 &  74.08 &  412.3 & 0.07348 & 0.00000 & 0.2458 & 0.06592 & 0\\\\\n",
       "\t 923780 & 11.130 & 22.44 &  71.49 &  378.4 & 0.09566 & 0.08194 & 0.048240 & 0.022570 & 0.2030 & ⋯ & 0.004723 & 12.020 & 28.26 &  77.80 &  436.6 & 0.17820 & 0.15640 & 0.3169 & 0.08032 & 0\\\\\n",
       "\t 924084 & 12.770 & 29.43 &  81.35 &  507.9 & 0.08276 & 0.04234 & 0.019970 & 0.014990 & 0.1539 & ⋯ & 0.001726 & 13.870 & 36.00 &  88.10 &  594.7 & 0.10640 & 0.08653 & 0.2407 & 0.06484 & 0\\\\\n",
       "\t 924342 &  9.333 & 21.94 &  59.01 &  264.0 & 0.09240 & 0.05605 & 0.039960 & 0.012820 & 0.1692 & ⋯ & 0.004623 &  9.845 & 25.05 &  62.86 &  295.8 & 0.08298 & 0.07993 & 0.2435 & 0.07393 & 0\\\\\n",
       "\t 924632 & 12.880 & 28.92 &  82.50 &  514.3 & 0.08123 & 0.05824 & 0.061950 & 0.023430 & 0.1566 & ⋯ & 0.002801 & 13.890 & 35.74 &  88.84 &  595.7 & 0.16200 & 0.24390 & 0.2372 & 0.07242 & 0\\\\\n",
       "\t 924934 & 10.290 & 27.61 &  65.67 &  321.4 & 0.09030 & 0.07658 & 0.059990 & 0.027380 & 0.1593 & ⋯ & 0.004938 & 10.840 & 34.91 &  69.57 &  357.6 & 0.17100 & 0.20000 & 0.2226 & 0.08283 & 0\\\\\n",
       "\t 924964 & 10.160 & 19.59 &  64.73 &  311.7 & 0.10030 & 0.07504 & 0.005025 & 0.011160 & 0.1791 & ⋯ & 0.002278 & 10.650 & 22.88 &  67.88 &  347.3 & 0.12000 & 0.01005 & 0.2262 & 0.06742 & 0\\\\\n",
       "\t 925236 &  9.423 & 27.88 &  59.26 &  271.3 & 0.08123 & 0.04971 & 0.000000 & 0.000000 & 0.1742 & ⋯ & 0.003324 & 10.490 & 34.24 &  66.50 &  330.6 & 0.07158 & 0.00000 & 0.2475 & 0.06969 & 0\\\\\n",
       "\t 925277 & 14.590 & 22.68 &  96.39 &  657.1 & 0.08473 & 0.13300 & 0.102900 & 0.037360 & 0.1454 & ⋯ & 0.004406 & 15.480 & 27.27 & 105.90 &  733.5 & 0.31710 & 0.36620 & 0.2258 & 0.08004 & 0\\\\\n",
       "\t 925291 & 11.510 & 23.93 &  74.52 &  403.5 & 0.09261 & 0.10210 & 0.111200 & 0.041050 & 0.1388 & ⋯ & 0.004738 & 12.480 & 37.16 &  82.28 &  474.2 & 0.25170 & 0.36300 & 0.2112 & 0.08732 & 0\\\\\n",
       "\t 925292 & 14.050 & 27.15 &  91.38 &  600.4 & 0.09929 & 0.11260 & 0.044620 & 0.043040 & 0.1537 & ⋯ & 0.005304 & 15.300 & 33.17 & 100.20 &  706.7 & 0.22640 & 0.13260 & 0.2250 & 0.08321 & 0\\\\\n",
       "\t 925311 & 11.200 & 29.37 &  70.67 &  386.0 & 0.07449 & 0.03558 & 0.000000 & 0.000000 & 0.1060 & ⋯ & 0.001773 & 11.920 & 38.30 &  75.19 &  439.6 & 0.05494 & 0.00000 & 0.1566 & 0.05905 & 0\\\\\n",
       "\t 925622 & 15.220 & 30.62 & 103.40 &  716.9 & 0.10480 & 0.20870 & 0.255000 & 0.094290 & 0.2128 & ⋯ & 0.006142 & 17.520 & 42.79 & 128.70 &  915.0 & 0.79170 & 1.17000 & 0.4089 & 0.14090 & 1\\\\\n",
       "\t 926125 & 20.920 & 25.09 & 143.00 & 1347.0 & 0.10990 & 0.22360 & 0.317400 & 0.147400 & 0.2149 & ⋯ & 0.006213 & 24.290 & 29.41 & 179.10 & 1819.0 & 0.41860 & 0.65990 & 0.2929 & 0.09873 & 1\\\\\n",
       "\t 926424 & 21.560 & 22.39 & 142.00 & 1479.0 & 0.11100 & 0.11590 & 0.243900 & 0.138900 & 0.1726 & ⋯ & 0.004239 & 25.450 & 26.40 & 166.10 & 2027.0 & 0.21130 & 0.41070 & 0.2060 & 0.07115 & 1\\\\\n",
       "\t 926682 & 20.130 & 28.25 & 131.20 & 1261.0 & 0.09780 & 0.10340 & 0.144000 & 0.097910 & 0.1752 & ⋯ & 0.002498 & 23.690 & 38.25 & 155.00 & 1731.0 & 0.19220 & 0.32150 & 0.2572 & 0.06637 & 1\\\\\n",
       "\t 926954 & 16.600 & 28.08 & 108.30 &  858.1 & 0.08455 & 0.10230 & 0.092510 & 0.053020 & 0.1590 & ⋯ & 0.003892 & 18.980 & 34.12 & 126.70 & 1124.0 & 0.30940 & 0.34030 & 0.2218 & 0.07820 & 1\\\\\n",
       "\t 927241 & 20.600 & 29.33 & 140.10 & 1265.0 & 0.11780 & 0.27700 & 0.351400 & 0.152000 & 0.2397 & ⋯ & 0.006185 & 25.740 & 39.42 & 184.60 & 1821.0 & 0.86810 & 0.93870 & 0.4087 & 0.12400 & 1\\\\\n",
       "\t  92751 &  7.760 & 24.54 &  47.92 &  181.0 & 0.05263 & 0.04362 & 0.000000 & 0.000000 & 0.1587 & ⋯ & 0.002783 &  9.456 & 30.37 &  59.16 &  268.6 & 0.06444 & 0.00000 & 0.2871 & 0.07039 & 0\\\\\n",
       "\\end{tabular}\n"
      ],
      "text/markdown": [
       "\n",
       "A data.frame: 569 × 24\n",
       "\n",
       "| id &lt;int&gt; | radius_mean &lt;dbl&gt; | texture_mean &lt;dbl&gt; | perimeter_mean &lt;dbl&gt; | area_mean &lt;dbl&gt; | smoothness_mean &lt;dbl&gt; | compactness_mean &lt;dbl&gt; | concavity_mean &lt;dbl&gt; | concave.points_mean &lt;dbl&gt; | symmetry_mean &lt;dbl&gt; | ⋯ ⋯ | fractal_dimension_se &lt;dbl&gt; | radius_worst &lt;dbl&gt; | texture_worst &lt;dbl&gt; | perimeter_worst &lt;dbl&gt; | area_worst &lt;dbl&gt; | compactness_worst &lt;dbl&gt; | concavity_worst &lt;dbl&gt; | symmetry_worst &lt;dbl&gt; | fractal_dimension_worst &lt;dbl&gt; | diagnosis_M &lt;int&gt; |\n",
       "|---|---|---|---|---|---|---|---|---|---|---|---|---|---|---|---|---|---|---|---|---|\n",
       "|   842302 | 17.990 | 10.38 | 122.80 | 1001.0 | 0.11840 | 0.27760 | 0.30010 | 0.14710 | 0.2419 | ⋯ | 0.006193 | 25.38 | 17.33 | 184.60 | 2019.0 | 0.6656 | 0.71190 | 0.4601 | 0.11890 | 1 |\n",
       "|   842517 | 20.570 | 17.77 | 132.90 | 1326.0 | 0.08474 | 0.07864 | 0.08690 | 0.07017 | 0.1812 | ⋯ | 0.003532 | 24.99 | 23.41 | 158.80 | 1956.0 | 0.1866 | 0.24160 | 0.2750 | 0.08902 | 1 |\n",
       "| 84300903 | 19.690 | 21.25 | 130.00 | 1203.0 | 0.10960 | 0.15990 | 0.19740 | 0.12790 | 0.2069 | ⋯ | 0.004571 | 23.57 | 25.53 | 152.50 | 1709.0 | 0.4245 | 0.45040 | 0.3613 | 0.08758 | 1 |\n",
       "| 84348301 | 11.420 | 20.38 |  77.58 |  386.1 | 0.14250 | 0.28390 | 0.24140 | 0.10520 | 0.2597 | ⋯ | 0.009208 | 14.91 | 26.50 |  98.87 |  567.7 | 0.8663 | 0.68690 | 0.6638 | 0.17300 | 1 |\n",
       "| 84358402 | 20.290 | 14.34 | 135.10 | 1297.0 | 0.10030 | 0.13280 | 0.19800 | 0.10430 | 0.1809 | ⋯ | 0.005115 | 22.54 | 16.67 | 152.20 | 1575.0 | 0.2050 | 0.40000 | 0.2364 | 0.07678 | 1 |\n",
       "|   843786 | 12.450 | 15.70 |  82.57 |  477.1 | 0.12780 | 0.17000 | 0.15780 | 0.08089 | 0.2087 | ⋯ | 0.005082 | 15.47 | 23.75 | 103.40 |  741.6 | 0.5249 | 0.53550 | 0.3985 | 0.12440 | 1 |\n",
       "|   844359 | 18.250 | 19.98 | 119.60 | 1040.0 | 0.09463 | 0.10900 | 0.11270 | 0.07400 | 0.1794 | ⋯ | 0.002179 | 22.88 | 27.66 | 153.20 | 1606.0 | 0.2576 | 0.37840 | 0.3063 | 0.08368 | 1 |\n",
       "| 84458202 | 13.710 | 20.83 |  90.20 |  577.9 | 0.11890 | 0.16450 | 0.09366 | 0.05985 | 0.2196 | ⋯ | 0.005412 | 17.06 | 28.14 | 110.60 |  897.0 | 0.3682 | 0.26780 | 0.3196 | 0.11510 | 1 |\n",
       "|   844981 | 13.000 | 21.82 |  87.50 |  519.8 | 0.12730 | 0.19320 | 0.18590 | 0.09353 | 0.2350 | ⋯ | 0.003749 | 15.49 | 30.73 | 106.20 |  739.3 | 0.5401 | 0.53900 | 0.4378 | 0.10720 | 1 |\n",
       "| 84501001 | 12.460 | 24.04 |  83.97 |  475.9 | 0.11860 | 0.23960 | 0.22730 | 0.08543 | 0.2030 | ⋯ | 0.010080 | 15.09 | 40.68 |  97.65 |  711.4 | 1.0580 | 1.10500 | 0.4366 | 0.20750 | 1 |\n",
       "|   845636 | 16.020 | 23.24 | 102.70 |  797.8 | 0.08206 | 0.06669 | 0.03299 | 0.03323 | 0.1528 | ⋯ | 0.003042 | 19.19 | 33.88 | 123.80 | 1150.0 | 0.1551 | 0.14590 | 0.2948 | 0.08452 | 1 |\n",
       "| 84610002 | 15.780 | 17.89 | 103.60 |  781.0 | 0.09710 | 0.12920 | 0.09954 | 0.06606 | 0.1842 | ⋯ | 0.004144 | 20.42 | 27.28 | 136.50 | 1299.0 | 0.5609 | 0.39650 | 0.3792 | 0.10480 | 1 |\n",
       "|   846226 | 19.170 | 24.80 | 132.40 | 1123.0 | 0.09740 | 0.24580 | 0.20650 | 0.11180 | 0.2397 | ⋯ | 0.012840 | 20.96 | 29.94 | 151.70 | 1332.0 | 0.3903 | 0.36390 | 0.3176 | 0.10230 | 1 |\n",
       "|   846381 | 15.850 | 23.95 | 103.70 |  782.7 | 0.08401 | 0.10020 | 0.09938 | 0.05364 | 0.1847 | ⋯ | 0.003002 | 16.84 | 27.66 | 112.00 |  876.5 | 0.1924 | 0.23220 | 0.2809 | 0.06287 | 1 |\n",
       "| 84667401 | 13.730 | 22.61 |  93.60 |  578.3 | 0.11310 | 0.22930 | 0.21280 | 0.08025 | 0.2069 | ⋯ | 0.008093 | 15.03 | 32.01 | 108.80 |  697.7 | 0.7725 | 0.69430 | 0.3596 | 0.14310 | 1 |\n",
       "| 84799002 | 14.540 | 27.54 |  96.73 |  658.8 | 0.11390 | 0.15950 | 0.16390 | 0.07364 | 0.2303 | ⋯ | 0.005466 | 17.46 | 37.13 | 124.10 |  943.2 | 0.6577 | 0.70260 | 0.4218 | 0.13410 | 1 |\n",
       "|   848406 | 14.680 | 20.13 |  94.74 |  684.5 | 0.09867 | 0.07200 | 0.07395 | 0.05259 | 0.1586 | ⋯ | 0.002085 | 19.07 | 30.88 | 123.40 | 1138.0 | 0.1871 | 0.29140 | 0.3029 | 0.08216 | 1 |\n",
       "| 84862001 | 16.130 | 20.68 | 108.10 |  798.8 | 0.11700 | 0.20220 | 0.17220 | 0.10280 | 0.2164 | ⋯ | 0.004142 | 20.96 | 31.48 | 136.80 | 1315.0 | 0.4233 | 0.47840 | 0.3706 | 0.11420 | 1 |\n",
       "|   849014 | 19.810 | 22.15 | 130.00 | 1260.0 | 0.09831 | 0.10270 | 0.14790 | 0.09498 | 0.1582 | ⋯ | 0.001997 | 27.32 | 30.88 | 186.80 | 2398.0 | 0.3150 | 0.53720 | 0.2768 | 0.07615 | 1 |\n",
       "|  8510426 | 13.540 | 14.36 |  87.46 |  566.3 | 0.09779 | 0.08129 | 0.06664 | 0.04781 | 0.1885 | ⋯ | 0.002300 | 15.11 | 19.26 |  99.70 |  711.2 | 0.1773 | 0.23900 | 0.2977 | 0.07259 | 0 |\n",
       "|  8510653 | 13.080 | 15.71 |  85.63 |  520.0 | 0.10750 | 0.12700 | 0.04568 | 0.03110 | 0.1967 | ⋯ | 0.002425 | 14.50 | 20.49 |  96.09 |  630.5 | 0.2776 | 0.18900 | 0.3184 | 0.08183 | 0 |\n",
       "|  8510824 |  9.504 | 12.44 |  60.34 |  273.9 | 0.10240 | 0.06492 | 0.02956 | 0.02076 | 0.1815 | ⋯ | 0.002968 | 10.23 | 15.66 |  65.13 |  314.9 | 0.1148 | 0.08867 | 0.2450 | 0.07773 | 0 |\n",
       "|  8511133 | 15.340 | 14.26 | 102.50 |  704.4 | 0.10730 | 0.21350 | 0.20770 | 0.09756 | 0.2521 | ⋯ | 0.004394 | 18.07 | 19.08 | 125.10 |  980.9 | 0.5954 | 0.63050 | 0.4667 | 0.09946 | 1 |\n",
       "|   851509 | 21.160 | 23.04 | 137.20 | 1404.0 | 0.09428 | 0.10220 | 0.10970 | 0.08632 | 0.1769 | ⋯ | 0.001987 | 29.17 | 35.59 | 188.00 | 2615.0 | 0.2600 | 0.31550 | 0.2822 | 0.07526 | 1 |\n",
       "|   852552 | 16.650 | 21.38 | 110.00 |  904.6 | 0.11210 | 0.14570 | 0.15250 | 0.09170 | 0.1995 | ⋯ | 0.002801 | 26.46 | 31.56 | 177.00 | 2215.0 | 0.3578 | 0.46950 | 0.3613 | 0.09564 | 1 |\n",
       "|   852631 | 17.140 | 16.40 | 116.00 |  912.7 | 0.11860 | 0.22760 | 0.22290 | 0.14010 | 0.3040 | ⋯ | 0.007444 | 22.25 | 21.40 | 152.40 | 1461.0 | 0.3949 | 0.38530 | 0.4066 | 0.10590 | 1 |\n",
       "|   852763 | 14.580 | 21.53 |  97.41 |  644.8 | 0.10540 | 0.18680 | 0.14250 | 0.08783 | 0.2252 | ⋯ | 0.003711 | 17.62 | 33.21 | 122.40 |  896.9 | 0.6643 | 0.55390 | 0.4264 | 0.12750 | 1 |\n",
       "|   852781 | 18.610 | 20.25 | 122.10 | 1094.0 | 0.09440 | 0.10660 | 0.14900 | 0.07731 | 0.1697 | ⋯ | 0.004217 | 21.31 | 27.26 | 139.90 | 1403.0 | 0.2117 | 0.34460 | 0.2341 | 0.07421 | 1 |\n",
       "|   852973 | 15.300 | 25.27 | 102.40 |  732.4 | 0.10820 | 0.16970 | 0.16830 | 0.08751 | 0.1926 | ⋯ | 0.002967 | 20.27 | 36.71 | 149.30 | 1269.0 | 0.6110 | 0.63350 | 0.4027 | 0.09876 | 1 |\n",
       "|   853201 | 17.570 | 15.05 | 115.00 |  955.1 | 0.09847 | 0.11570 | 0.09875 | 0.07953 | 0.1739 | ⋯ | 0.003742 | 20.01 | 19.52 | 134.90 | 1227.0 | 0.2812 | 0.24890 | 0.2756 | 0.07919 | 1 |\n",
       "| ⋮ | ⋮ | ⋮ | ⋮ | ⋮ | ⋮ | ⋮ | ⋮ | ⋮ | ⋮ | ⋱ | ⋮ | ⋮ | ⋮ | ⋮ | ⋮ | ⋮ | ⋮ | ⋮ | ⋮ | ⋮ |\n",
       "| 921362 |  7.691 | 25.44 |  48.34 |  170.4 | 0.08668 | 0.11990 | 0.092520 | 0.013640 | 0.2037 | ⋯ | 0.007551 |  8.678 | 31.89 |  54.49 |  223.6 | 0.30640 | 0.33930 | 0.2790 | 0.10660 | 0 |\n",
       "| 921385 | 11.540 | 14.44 |  74.65 |  402.9 | 0.09984 | 0.11200 | 0.067370 | 0.025940 | 0.1818 | ⋯ | 0.005512 | 12.260 | 19.68 |  78.78 |  457.8 | 0.21180 | 0.17970 | 0.2329 | 0.08134 | 0 |\n",
       "| 921386 | 14.470 | 24.99 |  95.81 |  656.4 | 0.08837 | 0.12300 | 0.100900 | 0.038900 | 0.1872 | ⋯ | 0.006111 | 16.220 | 31.73 | 113.50 |  808.9 | 0.42020 | 0.40400 | 0.3187 | 0.10230 | 0 |\n",
       "| 921644 | 14.740 | 25.42 |  94.70 |  668.6 | 0.08275 | 0.07214 | 0.041050 | 0.030270 | 0.1840 | ⋯ | 0.002626 | 16.510 | 32.29 | 107.40 |  826.4 | 0.13760 | 0.16110 | 0.2722 | 0.06956 | 0 |\n",
       "| 922296 | 13.210 | 28.06 |  84.88 |  538.4 | 0.08671 | 0.06877 | 0.029870 | 0.032750 | 0.1628 | ⋯ | 0.001343 | 14.370 | 37.17 |  92.48 |  629.6 | 0.13810 | 0.10620 | 0.2473 | 0.06443 | 0 |\n",
       "| 922297 | 13.870 | 20.70 |  89.77 |  584.8 | 0.09578 | 0.10180 | 0.036880 | 0.023690 | 0.1620 | ⋯ | 0.003599 | 15.050 | 24.75 |  99.17 |  688.6 | 0.20370 | 0.13770 | 0.2249 | 0.08492 | 0 |\n",
       "| 922576 | 13.620 | 23.23 |  87.19 |  573.2 | 0.09246 | 0.06747 | 0.029740 | 0.024430 | 0.1664 | ⋯ | 0.002583 | 15.350 | 29.09 |  97.58 |  729.8 | 0.15170 | 0.10490 | 0.2642 | 0.06953 | 0 |\n",
       "| 922577 | 10.320 | 16.35 |  65.31 |  324.9 | 0.09434 | 0.04994 | 0.010120 | 0.005495 | 0.1885 | ⋯ | 0.002606 | 11.250 | 21.77 |  71.12 |  384.9 | 0.08842 | 0.04384 | 0.2681 | 0.07399 | 0 |\n",
       "| 922840 | 10.260 | 16.58 |  65.85 |  320.8 | 0.08877 | 0.08066 | 0.043580 | 0.024380 | 0.1669 | ⋯ | 0.005890 | 10.830 | 22.04 |  71.08 |  357.4 | 0.22460 | 0.17830 | 0.2691 | 0.09479 | 0 |\n",
       "| 923169 |  9.683 | 19.34 |  61.05 |  285.7 | 0.08491 | 0.05030 | 0.023370 | 0.009615 | 0.1580 | ⋯ | 0.004154 | 10.930 | 25.59 |  69.10 |  364.2 | 0.09546 | 0.09350 | 0.2552 | 0.07920 | 0 |\n",
       "| 923465 | 10.820 | 24.21 |  68.89 |  361.6 | 0.08192 | 0.06602 | 0.015480 | 0.008160 | 0.1976 | ⋯ | 0.002977 | 13.030 | 31.45 |  83.90 |  505.6 | 0.16330 | 0.06194 | 0.3059 | 0.07626 | 0 |\n",
       "| 923748 | 10.860 | 21.48 |  68.51 |  360.5 | 0.07431 | 0.04227 | 0.000000 | 0.000000 | 0.1661 | ⋯ | 0.002228 | 11.660 | 24.77 |  74.08 |  412.3 | 0.07348 | 0.00000 | 0.2458 | 0.06592 | 0 |\n",
       "| 923780 | 11.130 | 22.44 |  71.49 |  378.4 | 0.09566 | 0.08194 | 0.048240 | 0.022570 | 0.2030 | ⋯ | 0.004723 | 12.020 | 28.26 |  77.80 |  436.6 | 0.17820 | 0.15640 | 0.3169 | 0.08032 | 0 |\n",
       "| 924084 | 12.770 | 29.43 |  81.35 |  507.9 | 0.08276 | 0.04234 | 0.019970 | 0.014990 | 0.1539 | ⋯ | 0.001726 | 13.870 | 36.00 |  88.10 |  594.7 | 0.10640 | 0.08653 | 0.2407 | 0.06484 | 0 |\n",
       "| 924342 |  9.333 | 21.94 |  59.01 |  264.0 | 0.09240 | 0.05605 | 0.039960 | 0.012820 | 0.1692 | ⋯ | 0.004623 |  9.845 | 25.05 |  62.86 |  295.8 | 0.08298 | 0.07993 | 0.2435 | 0.07393 | 0 |\n",
       "| 924632 | 12.880 | 28.92 |  82.50 |  514.3 | 0.08123 | 0.05824 | 0.061950 | 0.023430 | 0.1566 | ⋯ | 0.002801 | 13.890 | 35.74 |  88.84 |  595.7 | 0.16200 | 0.24390 | 0.2372 | 0.07242 | 0 |\n",
       "| 924934 | 10.290 | 27.61 |  65.67 |  321.4 | 0.09030 | 0.07658 | 0.059990 | 0.027380 | 0.1593 | ⋯ | 0.004938 | 10.840 | 34.91 |  69.57 |  357.6 | 0.17100 | 0.20000 | 0.2226 | 0.08283 | 0 |\n",
       "| 924964 | 10.160 | 19.59 |  64.73 |  311.7 | 0.10030 | 0.07504 | 0.005025 | 0.011160 | 0.1791 | ⋯ | 0.002278 | 10.650 | 22.88 |  67.88 |  347.3 | 0.12000 | 0.01005 | 0.2262 | 0.06742 | 0 |\n",
       "| 925236 |  9.423 | 27.88 |  59.26 |  271.3 | 0.08123 | 0.04971 | 0.000000 | 0.000000 | 0.1742 | ⋯ | 0.003324 | 10.490 | 34.24 |  66.50 |  330.6 | 0.07158 | 0.00000 | 0.2475 | 0.06969 | 0 |\n",
       "| 925277 | 14.590 | 22.68 |  96.39 |  657.1 | 0.08473 | 0.13300 | 0.102900 | 0.037360 | 0.1454 | ⋯ | 0.004406 | 15.480 | 27.27 | 105.90 |  733.5 | 0.31710 | 0.36620 | 0.2258 | 0.08004 | 0 |\n",
       "| 925291 | 11.510 | 23.93 |  74.52 |  403.5 | 0.09261 | 0.10210 | 0.111200 | 0.041050 | 0.1388 | ⋯ | 0.004738 | 12.480 | 37.16 |  82.28 |  474.2 | 0.25170 | 0.36300 | 0.2112 | 0.08732 | 0 |\n",
       "| 925292 | 14.050 | 27.15 |  91.38 |  600.4 | 0.09929 | 0.11260 | 0.044620 | 0.043040 | 0.1537 | ⋯ | 0.005304 | 15.300 | 33.17 | 100.20 |  706.7 | 0.22640 | 0.13260 | 0.2250 | 0.08321 | 0 |\n",
       "| 925311 | 11.200 | 29.37 |  70.67 |  386.0 | 0.07449 | 0.03558 | 0.000000 | 0.000000 | 0.1060 | ⋯ | 0.001773 | 11.920 | 38.30 |  75.19 |  439.6 | 0.05494 | 0.00000 | 0.1566 | 0.05905 | 0 |\n",
       "| 925622 | 15.220 | 30.62 | 103.40 |  716.9 | 0.10480 | 0.20870 | 0.255000 | 0.094290 | 0.2128 | ⋯ | 0.006142 | 17.520 | 42.79 | 128.70 |  915.0 | 0.79170 | 1.17000 | 0.4089 | 0.14090 | 1 |\n",
       "| 926125 | 20.920 | 25.09 | 143.00 | 1347.0 | 0.10990 | 0.22360 | 0.317400 | 0.147400 | 0.2149 | ⋯ | 0.006213 | 24.290 | 29.41 | 179.10 | 1819.0 | 0.41860 | 0.65990 | 0.2929 | 0.09873 | 1 |\n",
       "| 926424 | 21.560 | 22.39 | 142.00 | 1479.0 | 0.11100 | 0.11590 | 0.243900 | 0.138900 | 0.1726 | ⋯ | 0.004239 | 25.450 | 26.40 | 166.10 | 2027.0 | 0.21130 | 0.41070 | 0.2060 | 0.07115 | 1 |\n",
       "| 926682 | 20.130 | 28.25 | 131.20 | 1261.0 | 0.09780 | 0.10340 | 0.144000 | 0.097910 | 0.1752 | ⋯ | 0.002498 | 23.690 | 38.25 | 155.00 | 1731.0 | 0.19220 | 0.32150 | 0.2572 | 0.06637 | 1 |\n",
       "| 926954 | 16.600 | 28.08 | 108.30 |  858.1 | 0.08455 | 0.10230 | 0.092510 | 0.053020 | 0.1590 | ⋯ | 0.003892 | 18.980 | 34.12 | 126.70 | 1124.0 | 0.30940 | 0.34030 | 0.2218 | 0.07820 | 1 |\n",
       "| 927241 | 20.600 | 29.33 | 140.10 | 1265.0 | 0.11780 | 0.27700 | 0.351400 | 0.152000 | 0.2397 | ⋯ | 0.006185 | 25.740 | 39.42 | 184.60 | 1821.0 | 0.86810 | 0.93870 | 0.4087 | 0.12400 | 1 |\n",
       "|  92751 |  7.760 | 24.54 |  47.92 |  181.0 | 0.05263 | 0.04362 | 0.000000 | 0.000000 | 0.1587 | ⋯ | 0.002783 |  9.456 | 30.37 |  59.16 |  268.6 | 0.06444 | 0.00000 | 0.2871 | 0.07039 | 0 |\n",
       "\n"
      ],
      "text/plain": [
       "    id       radius_mean texture_mean perimeter_mean area_mean smoothness_mean\n",
       "1     842302 17.990      10.38        122.80         1001.0    0.11840        \n",
       "2     842517 20.570      17.77        132.90         1326.0    0.08474        \n",
       "3   84300903 19.690      21.25        130.00         1203.0    0.10960        \n",
       "4   84348301 11.420      20.38         77.58          386.1    0.14250        \n",
       "5   84358402 20.290      14.34        135.10         1297.0    0.10030        \n",
       "6     843786 12.450      15.70         82.57          477.1    0.12780        \n",
       "7     844359 18.250      19.98        119.60         1040.0    0.09463        \n",
       "8   84458202 13.710      20.83         90.20          577.9    0.11890        \n",
       "9     844981 13.000      21.82         87.50          519.8    0.12730        \n",
       "10  84501001 12.460      24.04         83.97          475.9    0.11860        \n",
       "11    845636 16.020      23.24        102.70          797.8    0.08206        \n",
       "12  84610002 15.780      17.89        103.60          781.0    0.09710        \n",
       "13    846226 19.170      24.80        132.40         1123.0    0.09740        \n",
       "14    846381 15.850      23.95        103.70          782.7    0.08401        \n",
       "15  84667401 13.730      22.61         93.60          578.3    0.11310        \n",
       "16  84799002 14.540      27.54         96.73          658.8    0.11390        \n",
       "17    848406 14.680      20.13         94.74          684.5    0.09867        \n",
       "18  84862001 16.130      20.68        108.10          798.8    0.11700        \n",
       "19    849014 19.810      22.15        130.00         1260.0    0.09831        \n",
       "20   8510426 13.540      14.36         87.46          566.3    0.09779        \n",
       "21   8510653 13.080      15.71         85.63          520.0    0.10750        \n",
       "22   8510824  9.504      12.44         60.34          273.9    0.10240        \n",
       "23   8511133 15.340      14.26        102.50          704.4    0.10730        \n",
       "24    851509 21.160      23.04        137.20         1404.0    0.09428        \n",
       "25    852552 16.650      21.38        110.00          904.6    0.11210        \n",
       "26    852631 17.140      16.40        116.00          912.7    0.11860        \n",
       "27    852763 14.580      21.53         97.41          644.8    0.10540        \n",
       "28    852781 18.610      20.25        122.10         1094.0    0.09440        \n",
       "29    852973 15.300      25.27        102.40          732.4    0.10820        \n",
       "30    853201 17.570      15.05        115.00          955.1    0.09847        \n",
       "⋮   ⋮        ⋮           ⋮            ⋮              ⋮         ⋮              \n",
       "540 921362    7.691      25.44         48.34          170.4    0.08668        \n",
       "541 921385   11.540      14.44         74.65          402.9    0.09984        \n",
       "542 921386   14.470      24.99         95.81          656.4    0.08837        \n",
       "543 921644   14.740      25.42         94.70          668.6    0.08275        \n",
       "544 922296   13.210      28.06         84.88          538.4    0.08671        \n",
       "545 922297   13.870      20.70         89.77          584.8    0.09578        \n",
       "546 922576   13.620      23.23         87.19          573.2    0.09246        \n",
       "547 922577   10.320      16.35         65.31          324.9    0.09434        \n",
       "548 922840   10.260      16.58         65.85          320.8    0.08877        \n",
       "549 923169    9.683      19.34         61.05          285.7    0.08491        \n",
       "550 923465   10.820      24.21         68.89          361.6    0.08192        \n",
       "551 923748   10.860      21.48         68.51          360.5    0.07431        \n",
       "552 923780   11.130      22.44         71.49          378.4    0.09566        \n",
       "553 924084   12.770      29.43         81.35          507.9    0.08276        \n",
       "554 924342    9.333      21.94         59.01          264.0    0.09240        \n",
       "555 924632   12.880      28.92         82.50          514.3    0.08123        \n",
       "556 924934   10.290      27.61         65.67          321.4    0.09030        \n",
       "557 924964   10.160      19.59         64.73          311.7    0.10030        \n",
       "558 925236    9.423      27.88         59.26          271.3    0.08123        \n",
       "559 925277   14.590      22.68         96.39          657.1    0.08473        \n",
       "560 925291   11.510      23.93         74.52          403.5    0.09261        \n",
       "561 925292   14.050      27.15         91.38          600.4    0.09929        \n",
       "562 925311   11.200      29.37         70.67          386.0    0.07449        \n",
       "563 925622   15.220      30.62        103.40          716.9    0.10480        \n",
       "564 926125   20.920      25.09        143.00         1347.0    0.10990        \n",
       "565 926424   21.560      22.39        142.00         1479.0    0.11100        \n",
       "566 926682   20.130      28.25        131.20         1261.0    0.09780        \n",
       "567 926954   16.600      28.08        108.30          858.1    0.08455        \n",
       "568 927241   20.600      29.33        140.10         1265.0    0.11780        \n",
       "569  92751    7.760      24.54         47.92          181.0    0.05263        \n",
       "    compactness_mean concavity_mean concave.points_mean symmetry_mean ⋯\n",
       "1   0.27760          0.30010        0.14710             0.2419        ⋯\n",
       "2   0.07864          0.08690        0.07017             0.1812        ⋯\n",
       "3   0.15990          0.19740        0.12790             0.2069        ⋯\n",
       "4   0.28390          0.24140        0.10520             0.2597        ⋯\n",
       "5   0.13280          0.19800        0.10430             0.1809        ⋯\n",
       "6   0.17000          0.15780        0.08089             0.2087        ⋯\n",
       "7   0.10900          0.11270        0.07400             0.1794        ⋯\n",
       "8   0.16450          0.09366        0.05985             0.2196        ⋯\n",
       "9   0.19320          0.18590        0.09353             0.2350        ⋯\n",
       "10  0.23960          0.22730        0.08543             0.2030        ⋯\n",
       "11  0.06669          0.03299        0.03323             0.1528        ⋯\n",
       "12  0.12920          0.09954        0.06606             0.1842        ⋯\n",
       "13  0.24580          0.20650        0.11180             0.2397        ⋯\n",
       "14  0.10020          0.09938        0.05364             0.1847        ⋯\n",
       "15  0.22930          0.21280        0.08025             0.2069        ⋯\n",
       "16  0.15950          0.16390        0.07364             0.2303        ⋯\n",
       "17  0.07200          0.07395        0.05259             0.1586        ⋯\n",
       "18  0.20220          0.17220        0.10280             0.2164        ⋯\n",
       "19  0.10270          0.14790        0.09498             0.1582        ⋯\n",
       "20  0.08129          0.06664        0.04781             0.1885        ⋯\n",
       "21  0.12700          0.04568        0.03110             0.1967        ⋯\n",
       "22  0.06492          0.02956        0.02076             0.1815        ⋯\n",
       "23  0.21350          0.20770        0.09756             0.2521        ⋯\n",
       "24  0.10220          0.10970        0.08632             0.1769        ⋯\n",
       "25  0.14570          0.15250        0.09170             0.1995        ⋯\n",
       "26  0.22760          0.22290        0.14010             0.3040        ⋯\n",
       "27  0.18680          0.14250        0.08783             0.2252        ⋯\n",
       "28  0.10660          0.14900        0.07731             0.1697        ⋯\n",
       "29  0.16970          0.16830        0.08751             0.1926        ⋯\n",
       "30  0.11570          0.09875        0.07953             0.1739        ⋯\n",
       "⋮   ⋮                ⋮              ⋮                   ⋮             ⋱\n",
       "540 0.11990          0.092520       0.013640            0.2037        ⋯\n",
       "541 0.11200          0.067370       0.025940            0.1818        ⋯\n",
       "542 0.12300          0.100900       0.038900            0.1872        ⋯\n",
       "543 0.07214          0.041050       0.030270            0.1840        ⋯\n",
       "544 0.06877          0.029870       0.032750            0.1628        ⋯\n",
       "545 0.10180          0.036880       0.023690            0.1620        ⋯\n",
       "546 0.06747          0.029740       0.024430            0.1664        ⋯\n",
       "547 0.04994          0.010120       0.005495            0.1885        ⋯\n",
       "548 0.08066          0.043580       0.024380            0.1669        ⋯\n",
       "549 0.05030          0.023370       0.009615            0.1580        ⋯\n",
       "550 0.06602          0.015480       0.008160            0.1976        ⋯\n",
       "551 0.04227          0.000000       0.000000            0.1661        ⋯\n",
       "552 0.08194          0.048240       0.022570            0.2030        ⋯\n",
       "553 0.04234          0.019970       0.014990            0.1539        ⋯\n",
       "554 0.05605          0.039960       0.012820            0.1692        ⋯\n",
       "555 0.05824          0.061950       0.023430            0.1566        ⋯\n",
       "556 0.07658          0.059990       0.027380            0.1593        ⋯\n",
       "557 0.07504          0.005025       0.011160            0.1791        ⋯\n",
       "558 0.04971          0.000000       0.000000            0.1742        ⋯\n",
       "559 0.13300          0.102900       0.037360            0.1454        ⋯\n",
       "560 0.10210          0.111200       0.041050            0.1388        ⋯\n",
       "561 0.11260          0.044620       0.043040            0.1537        ⋯\n",
       "562 0.03558          0.000000       0.000000            0.1060        ⋯\n",
       "563 0.20870          0.255000       0.094290            0.2128        ⋯\n",
       "564 0.22360          0.317400       0.147400            0.2149        ⋯\n",
       "565 0.11590          0.243900       0.138900            0.1726        ⋯\n",
       "566 0.10340          0.144000       0.097910            0.1752        ⋯\n",
       "567 0.10230          0.092510       0.053020            0.1590        ⋯\n",
       "568 0.27700          0.351400       0.152000            0.2397        ⋯\n",
       "569 0.04362          0.000000       0.000000            0.1587        ⋯\n",
       "    fractal_dimension_se radius_worst texture_worst perimeter_worst area_worst\n",
       "1   0.006193             25.38        17.33         184.60          2019.0    \n",
       "2   0.003532             24.99        23.41         158.80          1956.0    \n",
       "3   0.004571             23.57        25.53         152.50          1709.0    \n",
       "4   0.009208             14.91        26.50          98.87           567.7    \n",
       "5   0.005115             22.54        16.67         152.20          1575.0    \n",
       "6   0.005082             15.47        23.75         103.40           741.6    \n",
       "7   0.002179             22.88        27.66         153.20          1606.0    \n",
       "8   0.005412             17.06        28.14         110.60           897.0    \n",
       "9   0.003749             15.49        30.73         106.20           739.3    \n",
       "10  0.010080             15.09        40.68          97.65           711.4    \n",
       "11  0.003042             19.19        33.88         123.80          1150.0    \n",
       "12  0.004144             20.42        27.28         136.50          1299.0    \n",
       "13  0.012840             20.96        29.94         151.70          1332.0    \n",
       "14  0.003002             16.84        27.66         112.00           876.5    \n",
       "15  0.008093             15.03        32.01         108.80           697.7    \n",
       "16  0.005466             17.46        37.13         124.10           943.2    \n",
       "17  0.002085             19.07        30.88         123.40          1138.0    \n",
       "18  0.004142             20.96        31.48         136.80          1315.0    \n",
       "19  0.001997             27.32        30.88         186.80          2398.0    \n",
       "20  0.002300             15.11        19.26          99.70           711.2    \n",
       "21  0.002425             14.50        20.49          96.09           630.5    \n",
       "22  0.002968             10.23        15.66          65.13           314.9    \n",
       "23  0.004394             18.07        19.08         125.10           980.9    \n",
       "24  0.001987             29.17        35.59         188.00          2615.0    \n",
       "25  0.002801             26.46        31.56         177.00          2215.0    \n",
       "26  0.007444             22.25        21.40         152.40          1461.0    \n",
       "27  0.003711             17.62        33.21         122.40           896.9    \n",
       "28  0.004217             21.31        27.26         139.90          1403.0    \n",
       "29  0.002967             20.27        36.71         149.30          1269.0    \n",
       "30  0.003742             20.01        19.52         134.90          1227.0    \n",
       "⋮   ⋮                    ⋮            ⋮             ⋮               ⋮         \n",
       "540 0.007551              8.678       31.89          54.49           223.6    \n",
       "541 0.005512             12.260       19.68          78.78           457.8    \n",
       "542 0.006111             16.220       31.73         113.50           808.9    \n",
       "543 0.002626             16.510       32.29         107.40           826.4    \n",
       "544 0.001343             14.370       37.17          92.48           629.6    \n",
       "545 0.003599             15.050       24.75          99.17           688.6    \n",
       "546 0.002583             15.350       29.09          97.58           729.8    \n",
       "547 0.002606             11.250       21.77          71.12           384.9    \n",
       "548 0.005890             10.830       22.04          71.08           357.4    \n",
       "549 0.004154             10.930       25.59          69.10           364.2    \n",
       "550 0.002977             13.030       31.45          83.90           505.6    \n",
       "551 0.002228             11.660       24.77          74.08           412.3    \n",
       "552 0.004723             12.020       28.26          77.80           436.6    \n",
       "553 0.001726             13.870       36.00          88.10           594.7    \n",
       "554 0.004623              9.845       25.05          62.86           295.8    \n",
       "555 0.002801             13.890       35.74          88.84           595.7    \n",
       "556 0.004938             10.840       34.91          69.57           357.6    \n",
       "557 0.002278             10.650       22.88          67.88           347.3    \n",
       "558 0.003324             10.490       34.24          66.50           330.6    \n",
       "559 0.004406             15.480       27.27         105.90           733.5    \n",
       "560 0.004738             12.480       37.16          82.28           474.2    \n",
       "561 0.005304             15.300       33.17         100.20           706.7    \n",
       "562 0.001773             11.920       38.30          75.19           439.6    \n",
       "563 0.006142             17.520       42.79         128.70           915.0    \n",
       "564 0.006213             24.290       29.41         179.10          1819.0    \n",
       "565 0.004239             25.450       26.40         166.10          2027.0    \n",
       "566 0.002498             23.690       38.25         155.00          1731.0    \n",
       "567 0.003892             18.980       34.12         126.70          1124.0    \n",
       "568 0.006185             25.740       39.42         184.60          1821.0    \n",
       "569 0.002783              9.456       30.37          59.16           268.6    \n",
       "    compactness_worst concavity_worst symmetry_worst fractal_dimension_worst\n",
       "1   0.6656            0.71190         0.4601         0.11890                \n",
       "2   0.1866            0.24160         0.2750         0.08902                \n",
       "3   0.4245            0.45040         0.3613         0.08758                \n",
       "4   0.8663            0.68690         0.6638         0.17300                \n",
       "5   0.2050            0.40000         0.2364         0.07678                \n",
       "6   0.5249            0.53550         0.3985         0.12440                \n",
       "7   0.2576            0.37840         0.3063         0.08368                \n",
       "8   0.3682            0.26780         0.3196         0.11510                \n",
       "9   0.5401            0.53900         0.4378         0.10720                \n",
       "10  1.0580            1.10500         0.4366         0.20750                \n",
       "11  0.1551            0.14590         0.2948         0.08452                \n",
       "12  0.5609            0.39650         0.3792         0.10480                \n",
       "13  0.3903            0.36390         0.3176         0.10230                \n",
       "14  0.1924            0.23220         0.2809         0.06287                \n",
       "15  0.7725            0.69430         0.3596         0.14310                \n",
       "16  0.6577            0.70260         0.4218         0.13410                \n",
       "17  0.1871            0.29140         0.3029         0.08216                \n",
       "18  0.4233            0.47840         0.3706         0.11420                \n",
       "19  0.3150            0.53720         0.2768         0.07615                \n",
       "20  0.1773            0.23900         0.2977         0.07259                \n",
       "21  0.2776            0.18900         0.3184         0.08183                \n",
       "22  0.1148            0.08867         0.2450         0.07773                \n",
       "23  0.5954            0.63050         0.4667         0.09946                \n",
       "24  0.2600            0.31550         0.2822         0.07526                \n",
       "25  0.3578            0.46950         0.3613         0.09564                \n",
       "26  0.3949            0.38530         0.4066         0.10590                \n",
       "27  0.6643            0.55390         0.4264         0.12750                \n",
       "28  0.2117            0.34460         0.2341         0.07421                \n",
       "29  0.6110            0.63350         0.4027         0.09876                \n",
       "30  0.2812            0.24890         0.2756         0.07919                \n",
       "⋮   ⋮                 ⋮               ⋮              ⋮                      \n",
       "540 0.30640           0.33930         0.2790         0.10660                \n",
       "541 0.21180           0.17970         0.2329         0.08134                \n",
       "542 0.42020           0.40400         0.3187         0.10230                \n",
       "543 0.13760           0.16110         0.2722         0.06956                \n",
       "544 0.13810           0.10620         0.2473         0.06443                \n",
       "545 0.20370           0.13770         0.2249         0.08492                \n",
       "546 0.15170           0.10490         0.2642         0.06953                \n",
       "547 0.08842           0.04384         0.2681         0.07399                \n",
       "548 0.22460           0.17830         0.2691         0.09479                \n",
       "549 0.09546           0.09350         0.2552         0.07920                \n",
       "550 0.16330           0.06194         0.3059         0.07626                \n",
       "551 0.07348           0.00000         0.2458         0.06592                \n",
       "552 0.17820           0.15640         0.3169         0.08032                \n",
       "553 0.10640           0.08653         0.2407         0.06484                \n",
       "554 0.08298           0.07993         0.2435         0.07393                \n",
       "555 0.16200           0.24390         0.2372         0.07242                \n",
       "556 0.17100           0.20000         0.2226         0.08283                \n",
       "557 0.12000           0.01005         0.2262         0.06742                \n",
       "558 0.07158           0.00000         0.2475         0.06969                \n",
       "559 0.31710           0.36620         0.2258         0.08004                \n",
       "560 0.25170           0.36300         0.2112         0.08732                \n",
       "561 0.22640           0.13260         0.2250         0.08321                \n",
       "562 0.05494           0.00000         0.1566         0.05905                \n",
       "563 0.79170           1.17000         0.4089         0.14090                \n",
       "564 0.41860           0.65990         0.2929         0.09873                \n",
       "565 0.21130           0.41070         0.2060         0.07115                \n",
       "566 0.19220           0.32150         0.2572         0.06637                \n",
       "567 0.30940           0.34030         0.2218         0.07820                \n",
       "568 0.86810           0.93870         0.4087         0.12400                \n",
       "569 0.06444           0.00000         0.2871         0.07039                \n",
       "    diagnosis_M\n",
       "1   1          \n",
       "2   1          \n",
       "3   1          \n",
       "4   1          \n",
       "5   1          \n",
       "6   1          \n",
       "7   1          \n",
       "8   1          \n",
       "9   1          \n",
       "10  1          \n",
       "11  1          \n",
       "12  1          \n",
       "13  1          \n",
       "14  1          \n",
       "15  1          \n",
       "16  1          \n",
       "17  1          \n",
       "18  1          \n",
       "19  1          \n",
       "20  0          \n",
       "21  0          \n",
       "22  0          \n",
       "23  1          \n",
       "24  1          \n",
       "25  1          \n",
       "26  1          \n",
       "27  1          \n",
       "28  1          \n",
       "29  1          \n",
       "30  1          \n",
       "⋮   ⋮          \n",
       "540 0          \n",
       "541 0          \n",
       "542 0          \n",
       "543 0          \n",
       "544 0          \n",
       "545 0          \n",
       "546 0          \n",
       "547 0          \n",
       "548 0          \n",
       "549 0          \n",
       "550 0          \n",
       "551 0          \n",
       "552 0          \n",
       "553 0          \n",
       "554 0          \n",
       "555 0          \n",
       "556 0          \n",
       "557 0          \n",
       "558 0          \n",
       "559 0          \n",
       "560 0          \n",
       "561 0          \n",
       "562 0          \n",
       "563 1          \n",
       "564 1          \n",
       "565 1          \n",
       "566 1          \n",
       "567 1          \n",
       "568 1          \n",
       "569 0          "
      ]
     },
     "metadata": {},
     "output_type": "display_data"
    }
   ],
   "source": [
    "df"
   ]
  },
  {
   "cell_type": "markdown",
   "id": "967f8a60",
   "metadata": {},
   "source": [
    "# Capping and flooring treatment for outliers"
   ]
  },
  {
   "cell_type": "code",
   "execution_count": 9,
   "id": "87977fd6",
   "metadata": {},
   "outputs": [
    {
     "data": {
      "text/plain": [
       "   Min. 1st Qu.  Median    Mean 3rd Qu.    Max. \n",
       "  0.757   1.606   2.287   2.512   3.357   4.196 "
      ]
     },
     "metadata": {},
     "output_type": "display_data"
    }
   ],
   "source": [
    "# Capping for perimeter_se\n",
    "quantile_value <- quantile(df$perimeter_se, 0.75)\n",
    "UV <- 1.25 * quantile_value\n",
    "df$perimeter_se[df$perimeter_se > UV] <- UV\n",
    "summary(df$perimeter_se)"
   ]
  },
  {
   "cell_type": "code",
   "execution_count": 10,
   "id": "4193d886",
   "metadata": {},
   "outputs": [
    {
     "data": {
      "text/plain": [
       "   Min. 1st Qu.  Median    Mean 3rd Qu.    Max. \n",
       "  6.802  17.850  24.530  30.514  45.190  56.487 "
      ]
     },
     "metadata": {},
     "output_type": "display_data"
    }
   ],
   "source": [
    "# Capping for area_se\n",
    "quantile_value <- quantile(df$area_se, 0.75)\n",
    "UV <- 1.25 * quantile_value\n",
    "df$area_se[df$area_se > UV] <- UV\n",
    "summary(df$area_se)"
   ]
  },
  {
   "cell_type": "code",
   "execution_count": 11,
   "id": "0008f078",
   "metadata": {},
   "outputs": [
    {
     "data": {
      "text/plain": [
       "   Min. 1st Qu.  Median    Mean 3rd Qu.    Max. \n",
       "  50.41   84.11   97.66  107.26  125.40  251.20 "
      ]
     },
     "metadata": {},
     "output_type": "display_data"
    }
   ],
   "source": [
    "# Capping for perimeter_worst\n",
    "quantile_value <- quantile(df$perimeter_worst, 0.95)\n",
    "UV <- 3 * quantile_value\n",
    "df$perimeter_worst[df$perimeter_worst > UV] <- UV\n",
    "summary(df$perimeter_worst)"
   ]
  },
  {
   "cell_type": "code",
   "execution_count": 12,
   "id": "4419b193",
   "metadata": {},
   "outputs": [
    {
     "data": {
      "text/plain": [
       "   Min. 1st Qu.  Median    Mean 3rd Qu.    Max. \n",
       "  185.2   515.3   686.5   645.4   813.0   813.0 "
      ]
     },
     "metadata": {},
     "output_type": "display_data"
    }
   ],
   "source": [
    "# Capping for area_worst\n",
    "quantile_value <- quantile(df$area_worst, 0.75)\n",
    "UV <- 0.75 * quantile_value\n",
    "df$area_worst[df$area_worst > UV] <- UV\n",
    "summary(df$area_worst)"
   ]
  },
  {
   "cell_type": "markdown",
   "id": "d3d168e0",
   "metadata": {},
   "source": [
    "# Test-train split"
   ]
  },
  {
   "cell_type": "code",
   "execution_count": 13,
   "id": "1863ff9e",
   "metadata": {},
   "outputs": [
    {
     "name": "stderr",
     "output_type": "stream",
     "text": [
      "Loading required package: caTools\n",
      "\n"
     ]
    }
   ],
   "source": [
    "require(\"caTools\")\n",
    "set.seed(0)\n",
    "split <- sample.split(df, SplitRatio = 0.7)\n",
    "train <- subset(df, split == TRUE)\n",
    "test <- subset(df, split == FALSE)"
   ]
  },
  {
   "cell_type": "code",
   "execution_count": 14,
   "id": "05b70e90",
   "metadata": {},
   "outputs": [
    {
     "data": {
      "text/html": [
       "<style>\n",
       ".list-inline {list-style: none; margin:0; padding: 0}\n",
       ".list-inline>li {display: inline-block}\n",
       ".list-inline>li:not(:last-child)::after {content: \"\\00b7\"; padding: 0 .5ex}\n",
       "</style>\n",
       "<ol class=list-inline><li>380</li><li>24</li></ol>\n"
      ],
      "text/latex": [
       "\\begin{enumerate*}\n",
       "\\item 380\n",
       "\\item 24\n",
       "\\end{enumerate*}\n"
      ],
      "text/markdown": [
       "1. 380\n",
       "2. 24\n",
       "\n",
       "\n"
      ],
      "text/plain": [
       "[1] 380  24"
      ]
     },
     "metadata": {},
     "output_type": "display_data"
    },
    {
     "data": {
      "text/html": [
       "<style>\n",
       ".list-inline {list-style: none; margin:0; padding: 0}\n",
       ".list-inline>li {display: inline-block}\n",
       ".list-inline>li:not(:last-child)::after {content: \"\\00b7\"; padding: 0 .5ex}\n",
       "</style>\n",
       "<ol class=list-inline><li>189</li><li>24</li></ol>\n"
      ],
      "text/latex": [
       "\\begin{enumerate*}\n",
       "\\item 189\n",
       "\\item 24\n",
       "\\end{enumerate*}\n"
      ],
      "text/markdown": [
       "1. 189\n",
       "2. 24\n",
       "\n",
       "\n"
      ],
      "text/plain": [
       "[1] 189  24"
      ]
     },
     "metadata": {},
     "output_type": "display_data"
    }
   ],
   "source": [
    "dim(train)\n",
    "dim(test)"
   ]
  },
  {
   "cell_type": "markdown",
   "id": "80586e20",
   "metadata": {},
   "source": [
    "# Logistic regression"
   ]
  },
  {
   "cell_type": "code",
   "execution_count": 17,
   "id": "41b48aba",
   "metadata": {},
   "outputs": [
    {
     "name": "stderr",
     "output_type": "stream",
     "text": [
      "Warning message:\n",
      "\"glm.fit: fitted probabilities numerically 0 or 1 occurred\"\n"
     ]
    },
    {
     "data": {
      "text/plain": [
       "         \n",
       "test.pred   0   1\n",
       "      NO  126   2\n",
       "      YES   3  58"
      ]
     },
     "metadata": {},
     "output_type": "display_data"
    }
   ],
   "source": [
    "train.fit <- glm(diagnosis_M~.-1, data=train, family=binomial)\n",
    "test.probs <- predict(train.fit, test, type='response')\n",
    "test.pred <- rep('NO', 189)\n",
    "test.pred[(test.probs > .5)] = 'YES'\n",
    "table(test.pred, test$diagnosis_M)"
   ]
  },
  {
   "cell_type": "code",
   "execution_count": 18,
   "id": "ea27b971",
   "metadata": {},
   "outputs": [
    {
     "data": {
      "text/html": [
       "0.973544973544973"
      ],
      "text/latex": [
       "0.973544973544973"
      ],
      "text/markdown": [
       "0.973544973544973"
      ],
      "text/plain": [
       "[1] 0.973545"
      ]
     },
     "metadata": {},
     "output_type": "display_data"
    }
   ],
   "source": [
    "184/189"
   ]
  },
  {
   "cell_type": "markdown",
   "id": "f2d0a7f5",
   "metadata": {},
   "source": [
    "# Linear Discriminant Analysis"
   ]
  },
  {
   "cell_type": "code",
   "execution_count": 19,
   "id": "e9b90c2b",
   "metadata": {},
   "outputs": [
    {
     "data": {
      "text/html": [
       "<table class=\"dataframe\">\n",
       "<caption>A matrix: 189 × 2 of type dbl</caption>\n",
       "<thead>\n",
       "\t<tr><th></th><th scope=col>0</th><th scope=col>1</th></tr>\n",
       "</thead>\n",
       "<tbody>\n",
       "\t<tr><th scope=row>1</th><td>1.271792e-06</td><td>9.999987e-01</td></tr>\n",
       "\t<tr><th scope=row>5</th><td>1.476831e-02</td><td>9.852317e-01</td></tr>\n",
       "\t<tr><th scope=row>7</th><td>1.073567e-04</td><td>9.998926e-01</td></tr>\n",
       "\t<tr><th scope=row>8</th><td>6.852745e-03</td><td>9.931473e-01</td></tr>\n",
       "\t<tr><th scope=row>16</th><td>1.612429e-05</td><td>9.999839e-01</td></tr>\n",
       "\t<tr><th scope=row>19</th><td>7.123160e-06</td><td>9.999929e-01</td></tr>\n",
       "\t<tr><th scope=row>21</th><td>9.998738e-01</td><td>1.261993e-04</td></tr>\n",
       "\t<tr><th scope=row>22</th><td>9.999960e-01</td><td>3.951322e-06</td></tr>\n",
       "\t<tr><th scope=row>25</th><td>6.757715e-06</td><td>9.999932e-01</td></tr>\n",
       "\t<tr><th scope=row>29</th><td>3.318216e-06</td><td>9.999967e-01</td></tr>\n",
       "\t<tr><th scope=row>31</th><td>1.180708e-06</td><td>9.999988e-01</td></tr>\n",
       "\t<tr><th scope=row>32</th><td>3.558459e-06</td><td>9.999964e-01</td></tr>\n",
       "\t<tr><th scope=row>40</th><td>2.702976e-01</td><td>7.297024e-01</td></tr>\n",
       "\t<tr><th scope=row>43</th><td>1.905268e-06</td><td>9.999981e-01</td></tr>\n",
       "\t<tr><th scope=row>45</th><td>4.051916e-01</td><td>5.948084e-01</td></tr>\n",
       "\t<tr><th scope=row>46</th><td>1.987078e-05</td><td>9.999801e-01</td></tr>\n",
       "\t<tr><th scope=row>49</th><td>9.989432e-01</td><td>1.056834e-03</td></tr>\n",
       "\t<tr><th scope=row>53</th><td>9.999046e-01</td><td>9.535844e-05</td></tr>\n",
       "\t<tr><th scope=row>55</th><td>5.213032e-01</td><td>4.786968e-01</td></tr>\n",
       "\t<tr><th scope=row>56</th><td>9.992107e-01</td><td>7.892699e-04</td></tr>\n",
       "\t<tr><th scope=row>64</th><td>9.999593e-01</td><td>4.071011e-05</td></tr>\n",
       "\t<tr><th scope=row>67</th><td>9.998987e-01</td><td>1.012985e-04</td></tr>\n",
       "\t<tr><th scope=row>69</th><td>7.519317e-01</td><td>2.480683e-01</td></tr>\n",
       "\t<tr><th scope=row>70</th><td>9.998824e-01</td><td>1.175770e-04</td></tr>\n",
       "\t<tr><th scope=row>73</th><td>4.215970e-06</td><td>9.999958e-01</td></tr>\n",
       "\t<tr><th scope=row>77</th><td>9.980693e-01</td><td>1.930737e-03</td></tr>\n",
       "\t<tr><th scope=row>79</th><td>4.387557e-06</td><td>9.999956e-01</td></tr>\n",
       "\t<tr><th scope=row>80</th><td>9.996541e-01</td><td>3.459303e-04</td></tr>\n",
       "\t<tr><th scope=row>88</th><td>4.194869e-06</td><td>9.999958e-01</td></tr>\n",
       "\t<tr><th scope=row>91</th><td>9.437489e-01</td><td>5.625105e-02</td></tr>\n",
       "\t<tr><th scope=row>⋮</th><td>⋮</td><td>⋮</td></tr>\n",
       "\t<tr><th scope=row>478</th><td>9.998121e-01</td><td>1.878917e-04</td></tr>\n",
       "\t<tr><th scope=row>481</th><td>9.999065e-01</td><td>9.345702e-05</td></tr>\n",
       "\t<tr><th scope=row>485</th><td>9.975077e-01</td><td>2.492319e-03</td></tr>\n",
       "\t<tr><th scope=row>487</th><td>9.954406e-01</td><td>4.559364e-03</td></tr>\n",
       "\t<tr><th scope=row>488</th><td>3.271462e-06</td><td>9.999967e-01</td></tr>\n",
       "\t<tr><th scope=row>496</th><td>9.794275e-01</td><td>2.057253e-02</td></tr>\n",
       "\t<tr><th scope=row>499</th><td>3.191663e-03</td><td>9.968083e-01</td></tr>\n",
       "\t<tr><th scope=row>501</th><td>8.327009e-01</td><td>1.672991e-01</td></tr>\n",
       "\t<tr><th scope=row>502</th><td>9.808669e-03</td><td>9.901913e-01</td></tr>\n",
       "\t<tr><th scope=row>505</th><td>9.999978e-01</td><td>2.229297e-06</td></tr>\n",
       "\t<tr><th scope=row>509</th><td>9.936683e-01</td><td>6.331718e-03</td></tr>\n",
       "\t<tr><th scope=row>511</th><td>9.999720e-01</td><td>2.795300e-05</td></tr>\n",
       "\t<tr><th scope=row>512</th><td>9.997601e-01</td><td>2.399204e-04</td></tr>\n",
       "\t<tr><th scope=row>520</th><td>9.981031e-01</td><td>1.896891e-03</td></tr>\n",
       "\t<tr><th scope=row>523</th><td>9.999938e-01</td><td>6.169338e-06</td></tr>\n",
       "\t<tr><th scope=row>525</th><td>9.999464e-01</td><td>5.360402e-05</td></tr>\n",
       "\t<tr><th scope=row>526</th><td>9.999569e-01</td><td>4.308497e-05</td></tr>\n",
       "\t<tr><th scope=row>529</th><td>9.764636e-01</td><td>2.353637e-02</td></tr>\n",
       "\t<tr><th scope=row>533</th><td>9.994775e-01</td><td>5.224559e-04</td></tr>\n",
       "\t<tr><th scope=row>535</th><td>9.999804e-01</td><td>1.962385e-05</td></tr>\n",
       "\t<tr><th scope=row>536</th><td>9.917829e-05</td><td>9.999008e-01</td></tr>\n",
       "\t<tr><th scope=row>544</th><td>9.956933e-01</td><td>4.306668e-03</td></tr>\n",
       "\t<tr><th scope=row>547</th><td>9.999967e-01</td><td>3.263362e-06</td></tr>\n",
       "\t<tr><th scope=row>549</th><td>9.999721e-01</td><td>2.792816e-05</td></tr>\n",
       "\t<tr><th scope=row>550</th><td>9.984794e-01</td><td>1.520649e-03</td></tr>\n",
       "\t<tr><th scope=row>553</th><td>9.985352e-01</td><td>1.464752e-03</td></tr>\n",
       "\t<tr><th scope=row>557</th><td>9.999975e-01</td><td>2.517740e-06</td></tr>\n",
       "\t<tr><th scope=row>559</th><td>9.995660e-01</td><td>4.340075e-04</td></tr>\n",
       "\t<tr><th scope=row>560</th><td>9.979480e-01</td><td>2.052049e-03</td></tr>\n",
       "\t<tr><th scope=row>568</th><td>1.596397e-08</td><td>1.000000e+00</td></tr>\n",
       "</tbody>\n",
       "</table>\n"
      ],
      "text/latex": [
       "A matrix: 189 × 2 of type dbl\n",
       "\\begin{tabular}{r|ll}\n",
       "  & 0 & 1\\\\\n",
       "\\hline\n",
       "\t1 & 1.271792e-06 & 9.999987e-01\\\\\n",
       "\t5 & 1.476831e-02 & 9.852317e-01\\\\\n",
       "\t7 & 1.073567e-04 & 9.998926e-01\\\\\n",
       "\t8 & 6.852745e-03 & 9.931473e-01\\\\\n",
       "\t16 & 1.612429e-05 & 9.999839e-01\\\\\n",
       "\t19 & 7.123160e-06 & 9.999929e-01\\\\\n",
       "\t21 & 9.998738e-01 & 1.261993e-04\\\\\n",
       "\t22 & 9.999960e-01 & 3.951322e-06\\\\\n",
       "\t25 & 6.757715e-06 & 9.999932e-01\\\\\n",
       "\t29 & 3.318216e-06 & 9.999967e-01\\\\\n",
       "\t31 & 1.180708e-06 & 9.999988e-01\\\\\n",
       "\t32 & 3.558459e-06 & 9.999964e-01\\\\\n",
       "\t40 & 2.702976e-01 & 7.297024e-01\\\\\n",
       "\t43 & 1.905268e-06 & 9.999981e-01\\\\\n",
       "\t45 & 4.051916e-01 & 5.948084e-01\\\\\n",
       "\t46 & 1.987078e-05 & 9.999801e-01\\\\\n",
       "\t49 & 9.989432e-01 & 1.056834e-03\\\\\n",
       "\t53 & 9.999046e-01 & 9.535844e-05\\\\\n",
       "\t55 & 5.213032e-01 & 4.786968e-01\\\\\n",
       "\t56 & 9.992107e-01 & 7.892699e-04\\\\\n",
       "\t64 & 9.999593e-01 & 4.071011e-05\\\\\n",
       "\t67 & 9.998987e-01 & 1.012985e-04\\\\\n",
       "\t69 & 7.519317e-01 & 2.480683e-01\\\\\n",
       "\t70 & 9.998824e-01 & 1.175770e-04\\\\\n",
       "\t73 & 4.215970e-06 & 9.999958e-01\\\\\n",
       "\t77 & 9.980693e-01 & 1.930737e-03\\\\\n",
       "\t79 & 4.387557e-06 & 9.999956e-01\\\\\n",
       "\t80 & 9.996541e-01 & 3.459303e-04\\\\\n",
       "\t88 & 4.194869e-06 & 9.999958e-01\\\\\n",
       "\t91 & 9.437489e-01 & 5.625105e-02\\\\\n",
       "\t⋮ & ⋮ & ⋮\\\\\n",
       "\t478 & 9.998121e-01 & 1.878917e-04\\\\\n",
       "\t481 & 9.999065e-01 & 9.345702e-05\\\\\n",
       "\t485 & 9.975077e-01 & 2.492319e-03\\\\\n",
       "\t487 & 9.954406e-01 & 4.559364e-03\\\\\n",
       "\t488 & 3.271462e-06 & 9.999967e-01\\\\\n",
       "\t496 & 9.794275e-01 & 2.057253e-02\\\\\n",
       "\t499 & 3.191663e-03 & 9.968083e-01\\\\\n",
       "\t501 & 8.327009e-01 & 1.672991e-01\\\\\n",
       "\t502 & 9.808669e-03 & 9.901913e-01\\\\\n",
       "\t505 & 9.999978e-01 & 2.229297e-06\\\\\n",
       "\t509 & 9.936683e-01 & 6.331718e-03\\\\\n",
       "\t511 & 9.999720e-01 & 2.795300e-05\\\\\n",
       "\t512 & 9.997601e-01 & 2.399204e-04\\\\\n",
       "\t520 & 9.981031e-01 & 1.896891e-03\\\\\n",
       "\t523 & 9.999938e-01 & 6.169338e-06\\\\\n",
       "\t525 & 9.999464e-01 & 5.360402e-05\\\\\n",
       "\t526 & 9.999569e-01 & 4.308497e-05\\\\\n",
       "\t529 & 9.764636e-01 & 2.353637e-02\\\\\n",
       "\t533 & 9.994775e-01 & 5.224559e-04\\\\\n",
       "\t535 & 9.999804e-01 & 1.962385e-05\\\\\n",
       "\t536 & 9.917829e-05 & 9.999008e-01\\\\\n",
       "\t544 & 9.956933e-01 & 4.306668e-03\\\\\n",
       "\t547 & 9.999967e-01 & 3.263362e-06\\\\\n",
       "\t549 & 9.999721e-01 & 2.792816e-05\\\\\n",
       "\t550 & 9.984794e-01 & 1.520649e-03\\\\\n",
       "\t553 & 9.985352e-01 & 1.464752e-03\\\\\n",
       "\t557 & 9.999975e-01 & 2.517740e-06\\\\\n",
       "\t559 & 9.995660e-01 & 4.340075e-04\\\\\n",
       "\t560 & 9.979480e-01 & 2.052049e-03\\\\\n",
       "\t568 & 1.596397e-08 & 1.000000e+00\\\\\n",
       "\\end{tabular}\n"
      ],
      "text/markdown": [
       "\n",
       "A matrix: 189 × 2 of type dbl\n",
       "\n",
       "| <!--/--> | 0 | 1 |\n",
       "|---|---|---|\n",
       "| 1 | 1.271792e-06 | 9.999987e-01 |\n",
       "| 5 | 1.476831e-02 | 9.852317e-01 |\n",
       "| 7 | 1.073567e-04 | 9.998926e-01 |\n",
       "| 8 | 6.852745e-03 | 9.931473e-01 |\n",
       "| 16 | 1.612429e-05 | 9.999839e-01 |\n",
       "| 19 | 7.123160e-06 | 9.999929e-01 |\n",
       "| 21 | 9.998738e-01 | 1.261993e-04 |\n",
       "| 22 | 9.999960e-01 | 3.951322e-06 |\n",
       "| 25 | 6.757715e-06 | 9.999932e-01 |\n",
       "| 29 | 3.318216e-06 | 9.999967e-01 |\n",
       "| 31 | 1.180708e-06 | 9.999988e-01 |\n",
       "| 32 | 3.558459e-06 | 9.999964e-01 |\n",
       "| 40 | 2.702976e-01 | 7.297024e-01 |\n",
       "| 43 | 1.905268e-06 | 9.999981e-01 |\n",
       "| 45 | 4.051916e-01 | 5.948084e-01 |\n",
       "| 46 | 1.987078e-05 | 9.999801e-01 |\n",
       "| 49 | 9.989432e-01 | 1.056834e-03 |\n",
       "| 53 | 9.999046e-01 | 9.535844e-05 |\n",
       "| 55 | 5.213032e-01 | 4.786968e-01 |\n",
       "| 56 | 9.992107e-01 | 7.892699e-04 |\n",
       "| 64 | 9.999593e-01 | 4.071011e-05 |\n",
       "| 67 | 9.998987e-01 | 1.012985e-04 |\n",
       "| 69 | 7.519317e-01 | 2.480683e-01 |\n",
       "| 70 | 9.998824e-01 | 1.175770e-04 |\n",
       "| 73 | 4.215970e-06 | 9.999958e-01 |\n",
       "| 77 | 9.980693e-01 | 1.930737e-03 |\n",
       "| 79 | 4.387557e-06 | 9.999956e-01 |\n",
       "| 80 | 9.996541e-01 | 3.459303e-04 |\n",
       "| 88 | 4.194869e-06 | 9.999958e-01 |\n",
       "| 91 | 9.437489e-01 | 5.625105e-02 |\n",
       "| ⋮ | ⋮ | ⋮ |\n",
       "| 478 | 9.998121e-01 | 1.878917e-04 |\n",
       "| 481 | 9.999065e-01 | 9.345702e-05 |\n",
       "| 485 | 9.975077e-01 | 2.492319e-03 |\n",
       "| 487 | 9.954406e-01 | 4.559364e-03 |\n",
       "| 488 | 3.271462e-06 | 9.999967e-01 |\n",
       "| 496 | 9.794275e-01 | 2.057253e-02 |\n",
       "| 499 | 3.191663e-03 | 9.968083e-01 |\n",
       "| 501 | 8.327009e-01 | 1.672991e-01 |\n",
       "| 502 | 9.808669e-03 | 9.901913e-01 |\n",
       "| 505 | 9.999978e-01 | 2.229297e-06 |\n",
       "| 509 | 9.936683e-01 | 6.331718e-03 |\n",
       "| 511 | 9.999720e-01 | 2.795300e-05 |\n",
       "| 512 | 9.997601e-01 | 2.399204e-04 |\n",
       "| 520 | 9.981031e-01 | 1.896891e-03 |\n",
       "| 523 | 9.999938e-01 | 6.169338e-06 |\n",
       "| 525 | 9.999464e-01 | 5.360402e-05 |\n",
       "| 526 | 9.999569e-01 | 4.308497e-05 |\n",
       "| 529 | 9.764636e-01 | 2.353637e-02 |\n",
       "| 533 | 9.994775e-01 | 5.224559e-04 |\n",
       "| 535 | 9.999804e-01 | 1.962385e-05 |\n",
       "| 536 | 9.917829e-05 | 9.999008e-01 |\n",
       "| 544 | 9.956933e-01 | 4.306668e-03 |\n",
       "| 547 | 9.999967e-01 | 3.263362e-06 |\n",
       "| 549 | 9.999721e-01 | 2.792816e-05 |\n",
       "| 550 | 9.984794e-01 | 1.520649e-03 |\n",
       "| 553 | 9.985352e-01 | 1.464752e-03 |\n",
       "| 557 | 9.999975e-01 | 2.517740e-06 |\n",
       "| 559 | 9.995660e-01 | 4.340075e-04 |\n",
       "| 560 | 9.979480e-01 | 2.052049e-03 |\n",
       "| 568 | 1.596397e-08 | 1.000000e+00 |\n",
       "\n"
      ],
      "text/plain": [
       "    0            1           \n",
       "1   1.271792e-06 9.999987e-01\n",
       "5   1.476831e-02 9.852317e-01\n",
       "7   1.073567e-04 9.998926e-01\n",
       "8   6.852745e-03 9.931473e-01\n",
       "16  1.612429e-05 9.999839e-01\n",
       "19  7.123160e-06 9.999929e-01\n",
       "21  9.998738e-01 1.261993e-04\n",
       "22  9.999960e-01 3.951322e-06\n",
       "25  6.757715e-06 9.999932e-01\n",
       "29  3.318216e-06 9.999967e-01\n",
       "31  1.180708e-06 9.999988e-01\n",
       "32  3.558459e-06 9.999964e-01\n",
       "40  2.702976e-01 7.297024e-01\n",
       "43  1.905268e-06 9.999981e-01\n",
       "45  4.051916e-01 5.948084e-01\n",
       "46  1.987078e-05 9.999801e-01\n",
       "49  9.989432e-01 1.056834e-03\n",
       "53  9.999046e-01 9.535844e-05\n",
       "55  5.213032e-01 4.786968e-01\n",
       "56  9.992107e-01 7.892699e-04\n",
       "64  9.999593e-01 4.071011e-05\n",
       "67  9.998987e-01 1.012985e-04\n",
       "69  7.519317e-01 2.480683e-01\n",
       "70  9.998824e-01 1.175770e-04\n",
       "73  4.215970e-06 9.999958e-01\n",
       "77  9.980693e-01 1.930737e-03\n",
       "79  4.387557e-06 9.999956e-01\n",
       "80  9.996541e-01 3.459303e-04\n",
       "88  4.194869e-06 9.999958e-01\n",
       "91  9.437489e-01 5.625105e-02\n",
       "⋮   ⋮            ⋮           \n",
       "478 9.998121e-01 1.878917e-04\n",
       "481 9.999065e-01 9.345702e-05\n",
       "485 9.975077e-01 2.492319e-03\n",
       "487 9.954406e-01 4.559364e-03\n",
       "488 3.271462e-06 9.999967e-01\n",
       "496 9.794275e-01 2.057253e-02\n",
       "499 3.191663e-03 9.968083e-01\n",
       "501 8.327009e-01 1.672991e-01\n",
       "502 9.808669e-03 9.901913e-01\n",
       "505 9.999978e-01 2.229297e-06\n",
       "509 9.936683e-01 6.331718e-03\n",
       "511 9.999720e-01 2.795300e-05\n",
       "512 9.997601e-01 2.399204e-04\n",
       "520 9.981031e-01 1.896891e-03\n",
       "523 9.999938e-01 6.169338e-06\n",
       "525 9.999464e-01 5.360402e-05\n",
       "526 9.999569e-01 4.308497e-05\n",
       "529 9.764636e-01 2.353637e-02\n",
       "533 9.994775e-01 5.224559e-04\n",
       "535 9.999804e-01 1.962385e-05\n",
       "536 9.917829e-05 9.999008e-01\n",
       "544 9.956933e-01 4.306668e-03\n",
       "547 9.999967e-01 3.263362e-06\n",
       "549 9.999721e-01 2.792816e-05\n",
       "550 9.984794e-01 1.520649e-03\n",
       "553 9.985352e-01 1.464752e-03\n",
       "557 9.999975e-01 2.517740e-06\n",
       "559 9.995660e-01 4.340075e-04\n",
       "560 9.979480e-01 2.052049e-03\n",
       "568 1.596397e-08 1.000000e+00"
      ]
     },
     "metadata": {},
     "output_type": "display_data"
    },
    {
     "data": {
      "text/plain": [
       "          \n",
       "test.class   0   1\n",
       "         0 129   3\n",
       "         1   0  57"
      ]
     },
     "metadata": {},
     "output_type": "display_data"
    }
   ],
   "source": [
    "library(MASS)\n",
    "trainLDA <- lda(diagnosis_M~.-1, data=train)\n",
    "test.predict <- predict(trainLDA, test)\n",
    "test.predict$posterior\n",
    "test.class <- test.predict$class\n",
    "table(test.class, test$diagnosis_M)"
   ]
  },
  {
   "cell_type": "code",
   "execution_count": 20,
   "id": "b0347099",
   "metadata": {},
   "outputs": [
    {
     "data": {
      "text/html": [
       "0.984126984126984"
      ],
      "text/latex": [
       "0.984126984126984"
      ],
      "text/markdown": [
       "0.984126984126984"
      ],
      "text/plain": [
       "[1] 0.984127"
      ]
     },
     "metadata": {},
     "output_type": "display_data"
    }
   ],
   "source": [
    "186/189"
   ]
  },
  {
   "cell_type": "markdown",
   "id": "a6f9b6be",
   "metadata": {},
   "source": [
    "# K-nearest neighbours"
   ]
  },
  {
   "cell_type": "code",
   "execution_count": 21,
   "id": "4120d2a8",
   "metadata": {},
   "outputs": [],
   "source": [
    "library(class)\n",
    "trainX <- train[,-24] # train all variables except dependent\n",
    "testX <- test[,-24]\n",
    "trainY <- train$diagnosis_M\n",
    "testY <- test$diagnosis_M\n",
    "\n",
    "trainX_s <- scale(trainX)\n",
    "testX_s <- scale(testX)\n",
    "set.seed(0)"
   ]
  },
  {
   "cell_type": "raw",
   "id": "1df5d057",
   "metadata": {},
   "source": [
    "The thumb rule for optimum 'k' is taking square root of no. of observations on the training set. Therefore, k=19"
   ]
  },
  {
   "cell_type": "code",
   "execution_count": 22,
   "id": "ddaf62aa",
   "metadata": {},
   "outputs": [
    {
     "data": {
      "text/plain": [
       "        testY\n",
       "knn.pred   0   1\n",
       "       0 127   3\n",
       "       1   2  57"
      ]
     },
     "metadata": {},
     "output_type": "display_data"
    }
   ],
   "source": [
    "# k=3\n",
    "knn.pred <- knn(trainX_s, testX_s, trainY, k=3)\n",
    "table(knn.pred,testY)"
   ]
  },
  {
   "cell_type": "code",
   "execution_count": 23,
   "id": "9841b319",
   "metadata": {},
   "outputs": [
    {
     "data": {
      "text/html": [
       "0.973544973544973"
      ],
      "text/latex": [
       "0.973544973544973"
      ],
      "text/markdown": [
       "0.973544973544973"
      ],
      "text/plain": [
       "[1] 0.973545"
      ]
     },
     "metadata": {},
     "output_type": "display_data"
    }
   ],
   "source": [
    "184/189"
   ]
  },
  {
   "cell_type": "code",
   "execution_count": 24,
   "id": "b3c410e6",
   "metadata": {},
   "outputs": [
    {
     "data": {
      "text/plain": [
       "        testY\n",
       "knn.pred   0   1\n",
       "       0 126   1\n",
       "       1   3  59"
      ]
     },
     "metadata": {},
     "output_type": "display_data"
    }
   ],
   "source": [
    "# k=5\n",
    "knn.pred <- knn(trainX_s, testX_s, trainY, k=5)\n",
    "table(knn.pred,testY)"
   ]
  },
  {
   "cell_type": "code",
   "execution_count": 25,
   "id": "9966186a",
   "metadata": {},
   "outputs": [
    {
     "data": {
      "text/html": [
       "0.978835978835979"
      ],
      "text/latex": [
       "0.978835978835979"
      ],
      "text/markdown": [
       "0.978835978835979"
      ],
      "text/plain": [
       "[1] 0.978836"
      ]
     },
     "metadata": {},
     "output_type": "display_data"
    }
   ],
   "source": [
    "185/189"
   ]
  },
  {
   "cell_type": "code",
   "execution_count": 26,
   "id": "8ed2506b",
   "metadata": {},
   "outputs": [
    {
     "data": {
      "text/plain": [
       "        testY\n",
       "knn.pred   0   1\n",
       "       0 126   1\n",
       "       1   3  59"
      ]
     },
     "metadata": {},
     "output_type": "display_data"
    }
   ],
   "source": [
    "# k=19\n",
    "knn.pred <- knn(trainX_s, testX_s, trainY, k=19)\n",
    "table(knn.pred,testY)"
   ]
  },
  {
   "cell_type": "code",
   "execution_count": 27,
   "id": "c08c782d",
   "metadata": {},
   "outputs": [
    {
     "data": {
      "text/html": [
       "0.978835978835979"
      ],
      "text/latex": [
       "0.978835978835979"
      ],
      "text/markdown": [
       "0.978835978835979"
      ],
      "text/plain": [
       "[1] 0.978836"
      ]
     },
     "metadata": {},
     "output_type": "display_data"
    }
   ],
   "source": [
    "185/189"
   ]
  },
  {
   "cell_type": "raw",
   "id": "9da8844b",
   "metadata": {},
   "source": [
    "We consider the accuracy obtained from k=19 as the optimum value"
   ]
  },
  {
   "cell_type": "markdown",
   "id": "952fce87",
   "metadata": {},
   "source": [
    "# Decision Tree"
   ]
  },
  {
   "cell_type": "code",
   "execution_count": 28,
   "id": "6e80d231",
   "metadata": {},
   "outputs": [],
   "source": [
    "library(rpart)\n",
    "library(rpart.plot)"
   ]
  },
  {
   "cell_type": "code",
   "execution_count": 29,
   "id": "7269becc",
   "metadata": {},
   "outputs": [
    {
     "name": "stderr",
     "output_type": "stream",
     "text": [
      "Warning message in cats * !isord:\n",
      "\"longer object length is not a multiple of shorter object length\"\n"
     ]
    },
    {
     "data": {
      "image/png": "[encoded data removed]",
      "text/plain": [
       "plot without title"
      ]
     },
     "metadata": {
      "image/png": {
       "height": 420,
       "width": 420
      }
     },
     "output_type": "display_data"
    }
   ],
   "source": [
    "classtree <- rpart(diagnosis_M~.-1, data=train, method=\"class\", control=rpart.control(maxdepth = 7))\n",
    "rpart.plot(classtree, digits=-3)"
   ]
  },
  {
   "cell_type": "raw",
   "id": "8b43c6cc",
   "metadata": {},
   "source": [
    "The tree can scale upto a maximum depth of 3"
   ]
  },
  {
   "cell_type": "code",
   "execution_count": 30,
   "id": "8d15ced8",
   "metadata": {},
   "outputs": [
    {
     "data": {
      "text/plain": [
       "   \n",
       "      0   1\n",
       "  0 126   3\n",
       "  1   8  52"
      ]
     },
     "metadata": {},
     "output_type": "display_data"
    }
   ],
   "source": [
    "# Predicting values on test set\n",
    "test$decision <- predict(classtree, test, type=\"class\")\n",
    "table(test$diagnosis_M, test$decision)"
   ]
  },
  {
   "cell_type": "code",
   "execution_count": 73,
   "id": "1488c2e2",
   "metadata": {},
   "outputs": [
    {
     "data": {
      "text/html": [
       "0.941798941798942"
      ],
      "text/latex": [
       "0.941798941798942"
      ],
      "text/markdown": [
       "0.941798941798942"
      ],
      "text/plain": [
       "[1] 0.9417989"
      ]
     },
     "metadata": {},
     "output_type": "display_data"
    }
   ],
   "source": [
    "178/189"
   ]
  },
  {
   "cell_type": "markdown",
   "id": "3ad20a71",
   "metadata": {},
   "source": [
    "# Bagging"
   ]
  },
  {
   "cell_type": "code",
   "execution_count": 31,
   "id": "c8e1a047",
   "metadata": {},
   "outputs": [
    {
     "name": "stderr",
     "output_type": "stream",
     "text": [
      "randomForest 4.7-1.1\n",
      "\n",
      "Type rfNews() to see new features/changes/bug fixes.\n",
      "\n"
     ]
    },
    {
     "data": {
      "text/plain": [
       "   \n",
       "      0   1\n",
       "  0 127   2\n",
       "  1   5  55"
      ]
     },
     "metadata": {},
     "output_type": "display_data"
    }
   ],
   "source": [
    "library(randomForest)\n",
    "train$diagnosis_M <- as.factor(train$diagnosis_M)\n",
    "bagging <- randomForest(diagnosis_M~.-1, method=\"class\", data=train, mtry=22)\n",
    "test$bagging <- predict(bagging, test, type=\"response\")\n",
    "table(test$diagnosis_M, test$bagging) "
   ]
  },
  {
   "cell_type": "code",
   "execution_count": 32,
   "id": "17039a33",
   "metadata": {},
   "outputs": [
    {
     "data": {
      "text/html": [
       "0.962962962962963"
      ],
      "text/latex": [
       "0.962962962962963"
      ],
      "text/markdown": [
       "0.962962962962963"
      ],
      "text/plain": [
       "[1] 0.962963"
      ]
     },
     "metadata": {},
     "output_type": "display_data"
    }
   ],
   "source": [
    "182/189"
   ]
  },
  {
   "cell_type": "markdown",
   "id": "c3d781c3",
   "metadata": {},
   "source": [
    "# Random Forest"
   ]
  },
  {
   "cell_type": "code",
   "execution_count": 33,
   "id": "ad693a69",
   "metadata": {},
   "outputs": [
    {
     "data": {
      "text/plain": [
       "   \n",
       "      0   1\n",
       "  0 128   1\n",
       "  1   4  56"
      ]
     },
     "metadata": {},
     "output_type": "display_data"
    }
   ],
   "source": [
    "randomforest <- randomForest(diagnosis_M~.-1, data=train, ntree=500)\n",
    "test$randomforest <- predict(randomforest, test, type=\"class\")\n",
    "table(test$diagnosis_M, test$randomforest)"
   ]
  },
  {
   "cell_type": "code",
   "execution_count": 34,
   "id": "6571a612",
   "metadata": {},
   "outputs": [
    {
     "data": {
      "text/html": [
       "0.973544973544973"
      ],
      "text/latex": [
       "0.973544973544973"
      ],
      "text/markdown": [
       "0.973544973544973"
      ],
      "text/plain": [
       "[1] 0.973545"
      ]
     },
     "metadata": {},
     "output_type": "display_data"
    }
   ],
   "source": [
    "184/189"
   ]
  },
  {
   "cell_type": "markdown",
   "id": "761a325d",
   "metadata": {},
   "source": [
    "# Adaptive Boost"
   ]
  },
  {
   "cell_type": "code",
   "execution_count": 35,
   "id": "b84229ff",
   "metadata": {},
   "outputs": [
    {
     "name": "stderr",
     "output_type": "stream",
     "text": [
      "Loading required package: caret\n",
      "\n",
      "Loading required package: ggplot2\n",
      "\n",
      "\n",
      "Attaching package: 'ggplot2'\n",
      "\n",
      "\n",
      "The following object is masked from 'package:randomForest':\n",
      "\n",
      "    margin\n",
      "\n",
      "\n",
      "Loading required package: lattice\n",
      "\n",
      "Loading required package: foreach\n",
      "\n",
      "Loading required package: doParallel\n",
      "\n",
      "Loading required package: iterators\n",
      "\n",
      "Loading required package: parallel\n",
      "\n",
      "Warning message in cats * !isord:\n",
      "\"longer object length is not a multiple of shorter object length\"\n",
      "Warning message in cats * !isord:\n",
      "\"longer object length is not a multiple of shorter object length\"\n",
      "Warning message in cats * !isord:\n",
      "\"longer object length is not a multiple of shorter object length\"\n",
      "Warning message in cats * !isord:\n",
      "\"longer object length is not a multiple of shorter object length\"\n",
      "Warning message in cats * !isord:\n",
      "\"longer object length is not a multiple of shorter object length\"\n",
      "Warning message in cats * !isord:\n",
      "\"longer object length is not a multiple of shorter object length\"\n",
      "Warning message in cats * !isord:\n",
      "\"longer object length is not a multiple of shorter object length\"\n",
      "Warning message in cats * !isord:\n",
      "\"longer object length is not a multiple of shorter object length\"\n",
      "Warning message in cats * !isord:\n",
      "\"longer object length is not a multiple of shorter object length\"\n",
      "Warning message in cats * !isord:\n",
      "\"longer object length is not a multiple of shorter object length\"\n",
      "Warning message in cats * !isord:\n",
      "\"longer object length is not a multiple of shorter object length\"\n",
      "Warning message in cats * !isord:\n",
      "\"longer object length is not a multiple of shorter object length\"\n",
      "Warning message in cats * !isord:\n",
      "\"longer object length is not a multiple of shorter object length\"\n",
      "Warning message in cats * !isord:\n",
      "\"longer object length is not a multiple of shorter object length\"\n",
      "Warning message in cats * !isord:\n",
      "\"longer object length is not a multiple of shorter object length\"\n",
      "Warning message in cats * !isord:\n",
      "\"longer object length is not a multiple of shorter object length\"\n",
      "Warning message in cats * !isord:\n",
      "\"longer object length is not a multiple of shorter object length\"\n",
      "Warning message in cats * !isord:\n",
      "\"longer object length is not a multiple of shorter object length\"\n",
      "Warning message in cats * !isord:\n",
      "\"longer object length is not a multiple of shorter object length\"\n",
      "Warning message in cats * !isord:\n",
      "\"longer object length is not a multiple of shorter object length\"\n",
      "Warning message in cats * !isord:\n",
      "\"longer object length is not a multiple of shorter object length\"\n",
      "Warning message in cats * !isord:\n",
      "\"longer object length is not a multiple of shorter object length\"\n",
      "Warning message in cats * !isord:\n",
      "\"longer object length is not a multiple of shorter object length\"\n",
      "Warning message in cats * !isord:\n",
      "\"longer object length is not a multiple of shorter object length\"\n",
      "Warning message in cats * !isord:\n",
      "\"longer object length is not a multiple of shorter object length\"\n",
      "Warning message in cats * !isord:\n",
      "\"longer object length is not a multiple of shorter object length\"\n",
      "Warning message in cats * !isord:\n",
      "\"longer object length is not a multiple of shorter object length\"\n",
      "Warning message in cats * !isord:\n",
      "\"longer object length is not a multiple of shorter object length\"\n",
      "Warning message in cats * !isord:\n",
      "\"longer object length is not a multiple of shorter object length\"\n",
      "Warning message in cats * !isord:\n",
      "\"longer object length is not a multiple of shorter object length\"\n",
      "Warning message in cats * !isord:\n",
      "\"longer object length is not a multiple of shorter object length\"\n",
      "Warning message in cats * !isord:\n",
      "\"longer object length is not a multiple of shorter object length\"\n",
      "Warning message in cats * !isord:\n",
      "\"longer object length is not a multiple of shorter object length\"\n",
      "Warning message in cats * !isord:\n",
      "\"longer object length is not a multiple of shorter object length\"\n",
      "Warning message in cats * !isord:\n",
      "\"longer object length is not a multiple of shorter object length\"\n",
      "Warning message in cats * !isord:\n",
      "\"longer object length is not a multiple of shorter object length\"\n",
      "Warning message in cats * !isord:\n",
      "\"longer object length is not a multiple of shorter object length\"\n",
      "Warning message in cats * !isord:\n",
      "\"longer object length is not a multiple of shorter object length\"\n",
      "Warning message in cats * !isord:\n",
      "\"longer object length is not a multiple of shorter object length\"\n",
      "Warning message in cats * !isord:\n",
      "\"longer object length is not a multiple of shorter object length\"\n",
      "Warning message in cats * !isord:\n",
      "\"longer object length is not a multiple of shorter object length\"\n",
      "Warning message in cats * !isord:\n",
      "\"longer object length is not a multiple of shorter object length\"\n",
      "Warning message in cats * !isord:\n",
      "\"longer object length is not a multiple of shorter object length\"\n",
      "Warning message in cats * !isord:\n",
      "\"longer object length is not a multiple of shorter object length\"\n",
      "Warning message in cats * !isord:\n",
      "\"longer object length is not a multiple of shorter object length\"\n",
      "Warning message in cats * !isord:\n",
      "\"longer object length is not a multiple of shorter object length\"\n",
      "Warning message in cats * !isord:\n",
      "\"longer object length is not a multiple of shorter object length\"\n",
      "Warning message in cats * !isord:\n",
      "\"longer object length is not a multiple of shorter object length\"\n",
      "Warning message in cats * !isord:\n",
      "\"longer object length is not a multiple of shorter object length\"\n",
      "Warning message in cats * !isord:\n",
      "\"longer object length is not a multiple of shorter object length\"\n",
      "Warning message in cats * !isord:\n",
      "\"longer object length is not a multiple of shorter object length\"\n",
      "Warning message in cats * !isord:\n",
      "\"longer object length is not a multiple of shorter object length\"\n",
      "Warning message in cats * !isord:\n",
      "\"longer object length is not a multiple of shorter object length\"\n",
      "Warning message in cats * !isord:\n",
      "\"longer object length is not a multiple of shorter object length\"\n",
      "Warning message in cats * !isord:\n",
      "\"longer object length is not a multiple of shorter object length\"\n",
      "Warning message in cats * !isord:\n",
      "\"longer object length is not a multiple of shorter object length\"\n",
      "Warning message in cats * !isord:\n",
      "\"longer object length is not a multiple of shorter object length\"\n",
      "Warning message in cats * !isord:\n",
      "\"longer object length is not a multiple of shorter object length\"\n",
      "Warning message in cats * !isord:\n",
      "\"longer object length is not a multiple of shorter object length\"\n",
      "Warning message in cats * !isord:\n",
      "\"longer object length is not a multiple of shorter object length\"\n",
      "Warning message in cats * !isord:\n",
      "\"longer object length is not a multiple of shorter object length\"\n",
      "Warning message in cats * !isord:\n",
      "\"longer object length is not a multiple of shorter object length\"\n",
      "Warning message in cats * !isord:\n",
      "\"longer object length is not a multiple of shorter object length\"\n",
      "Warning message in cats * !isord:\n",
      "\"longer object length is not a multiple of shorter object length\"\n",
      "Warning message in cats * !isord:\n",
      "\"longer object length is not a multiple of shorter object length\"\n",
      "Warning message in cats * !isord:\n",
      "\"longer object length is not a multiple of shorter object length\"\n",
      "Warning message in cats * !isord:\n",
      "\"longer object length is not a multiple of shorter object length\"\n",
      "Warning message in cats * !isord:\n",
      "\"longer object length is not a multiple of shorter object length\"\n",
      "Warning message in cats * !isord:\n",
      "\"longer object length is not a multiple of shorter object length\"\n",
      "Warning message in cats * !isord:\n",
      "\"longer object length is not a multiple of shorter object length\"\n",
      "Warning message in cats * !isord:\n",
      "\"longer object length is not a multiple of shorter object length\"\n",
      "Warning message in cats * !isord:\n",
      "\"longer object length is not a multiple of shorter object length\"\n",
      "Warning message in cats * !isord:\n",
      "\"longer object length is not a multiple of shorter object length\"\n",
      "Warning message in cats * !isord:\n",
      "\"longer object length is not a multiple of shorter object length\"\n",
      "Warning message in cats * !isord:\n",
      "\"longer object length is not a multiple of shorter object length\"\n",
      "Warning message in cats * !isord:\n",
      "\"longer object length is not a multiple of shorter object length\"\n",
      "Warning message in cats * !isord:\n",
      "\"longer object length is not a multiple of shorter object length\"\n",
      "Warning message in cats * !isord:\n",
      "\"longer object length is not a multiple of shorter object length\"\n",
      "Warning message in cats * !isord:\n",
      "\"longer object length is not a multiple of shorter object length\"\n"
     ]
    },
    {
     "name": "stderr",
     "output_type": "stream",
     "text": [
      "Warning message in cats * !isord:\n",
      "\"longer object length is not a multiple of shorter object length\"\n",
      "Warning message in cats * !isord:\n",
      "\"longer object length is not a multiple of shorter object length\"\n",
      "Warning message in cats * !isord:\n",
      "\"longer object length is not a multiple of shorter object length\"\n",
      "Warning message in cats * !isord:\n",
      "\"longer object length is not a multiple of shorter object length\"\n",
      "Warning message in cats * !isord:\n",
      "\"longer object length is not a multiple of shorter object length\"\n",
      "Warning message in cats * !isord:\n",
      "\"longer object length is not a multiple of shorter object length\"\n",
      "Warning message in cats * !isord:\n",
      "\"longer object length is not a multiple of shorter object length\"\n",
      "Warning message in cats * !isord:\n",
      "\"longer object length is not a multiple of shorter object length\"\n",
      "Warning message in cats * !isord:\n",
      "\"longer object length is not a multiple of shorter object length\"\n",
      "Warning message in cats * !isord:\n",
      "\"longer object length is not a multiple of shorter object length\"\n",
      "Warning message in cats * !isord:\n",
      "\"longer object length is not a multiple of shorter object length\"\n",
      "Warning message in cats * !isord:\n",
      "\"longer object length is not a multiple of shorter object length\"\n",
      "Warning message in cats * !isord:\n",
      "\"longer object length is not a multiple of shorter object length\"\n",
      "Warning message in cats * !isord:\n",
      "\"longer object length is not a multiple of shorter object length\"\n",
      "Warning message in cats * !isord:\n",
      "\"longer object length is not a multiple of shorter object length\"\n",
      "Warning message in cats * !isord:\n",
      "\"longer object length is not a multiple of shorter object length\"\n",
      "Warning message in cats * !isord:\n",
      "\"longer object length is not a multiple of shorter object length\"\n",
      "Warning message in cats * !isord:\n",
      "\"longer object length is not a multiple of shorter object length\"\n",
      "Warning message in cats * !isord:\n",
      "\"longer object length is not a multiple of shorter object length\"\n",
      "Warning message in cats * !isord:\n",
      "\"longer object length is not a multiple of shorter object length\"\n",
      "Warning message in cats * !isord:\n",
      "\"longer object length is not a multiple of shorter object length\"\n",
      "Warning message in cats * !isord:\n",
      "\"longer object length is not a multiple of shorter object length\"\n"
     ]
    },
    {
     "data": {
      "text/plain": [
       "   \n",
       "      0   1\n",
       "  0 129   2\n",
       "  1   0  58"
      ]
     },
     "metadata": {},
     "output_type": "display_data"
    }
   ],
   "source": [
    "library(adabag)\n",
    "adaboost <- boosting(diagnosis_M~.-1, data=train, boos=TRUE)\n",
    "predada <- predict(adaboost, test)\n",
    "table(predada$class, test$diagnosis_M) "
   ]
  },
  {
   "cell_type": "code",
   "execution_count": 36,
   "id": "674f76c7",
   "metadata": {},
   "outputs": [
    {
     "data": {
      "text/html": [
       "0.989417989417989"
      ],
      "text/latex": [
       "0.989417989417989"
      ],
      "text/markdown": [
       "0.989417989417989"
      ],
      "text/plain": [
       "[1] 0.989418"
      ]
     },
     "metadata": {},
     "output_type": "display_data"
    }
   ],
   "source": [
    "187/189"
   ]
  },
  {
   "cell_type": "markdown",
   "id": "9e82c45e",
   "metadata": {},
   "source": [
    "# Gradient Boost"
   ]
  },
  {
   "cell_type": "code",
   "execution_count": 37,
   "id": "aa0c0e8d",
   "metadata": {},
   "outputs": [
    {
     "name": "stderr",
     "output_type": "stream",
     "text": [
      "Loaded gbm 2.1.8.1\n",
      "\n",
      "Warning message:\n",
      "\"Setting `distribution = \"multinomial\"` is ill-advised as it is currently broken. It exists only for backwards compatibility. Use at your own risk.\"\n"
     ]
    },
    {
     "data": {
      "text/plain": [
       "   \n",
       "      0   1\n",
       "  0 129   0\n",
       "  1   2  58"
      ]
     },
     "metadata": {},
     "output_type": "display_data"
    }
   ],
   "source": [
    "library(gbm)\n",
    "set.seed(0)\n",
    "test$diagnosis_M <- as.factor(test$diagnosis_M)\n",
    "boosting <- gbm(diagnosis_M~.-1, data=train, distribution=\"multinomial\", n.trees=1000, interaction.depth=4, shrinkage=0.2, verbose = F)\n",
    "test$pregrad <- predict(boosting, test, n.trees=1000, type=\"response\")\n",
    "class_names = colnames(test$pregrad)[apply(test$pregrad, 1, which.max)]\n",
    "table(test$diagnosis_M, as.factor(class_names))"
   ]
  },
  {
   "cell_type": "code",
   "execution_count": 38,
   "id": "994631cf",
   "metadata": {},
   "outputs": [
    {
     "data": {
      "text/html": [
       "0.989417989417989"
      ],
      "text/latex": [
       "0.989417989417989"
      ],
      "text/markdown": [
       "0.989417989417989"
      ],
      "text/plain": [
       "[1] 0.989418"
      ]
     },
     "metadata": {},
     "output_type": "display_data"
    }
   ],
   "source": [
    "187/189"
   ]
  },
  {
   "cell_type": "markdown",
   "id": "2f18ba30",
   "metadata": {},
   "source": [
    "# XG Boost"
   ]
  },
  {
   "cell_type": "code",
   "execution_count": 15,
   "id": "5acf27f8",
   "metadata": {},
   "outputs": [
    {
     "name": "stdout",
     "output_type": "stream",
     "text": [
      "[1]\ttrain-mlogloss:0.456378 \n",
      "[2]\ttrain-mlogloss:0.321744 \n",
      "[3]\ttrain-mlogloss:0.234673 \n",
      "[4]\ttrain-mlogloss:0.175782 \n",
      "[5]\ttrain-mlogloss:0.133471 \n",
      "[6]\ttrain-mlogloss:0.102483 \n",
      "[7]\ttrain-mlogloss:0.079528 \n",
      "[8]\ttrain-mlogloss:0.063216 \n",
      "[9]\ttrain-mlogloss:0.051034 \n",
      "[10]\ttrain-mlogloss:0.041434 \n",
      "[11]\ttrain-mlogloss:0.034292 \n",
      "[12]\ttrain-mlogloss:0.028751 \n",
      "[13]\ttrain-mlogloss:0.024061 \n",
      "[14]\ttrain-mlogloss:0.020783 \n",
      "[15]\ttrain-mlogloss:0.018195 \n",
      "[16]\ttrain-mlogloss:0.016205 \n",
      "[17]\ttrain-mlogloss:0.014484 \n",
      "[18]\ttrain-mlogloss:0.013062 \n",
      "[19]\ttrain-mlogloss:0.012000 \n",
      "[20]\ttrain-mlogloss:0.011015 \n",
      "[21]\ttrain-mlogloss:0.010281 \n",
      "[22]\ttrain-mlogloss:0.009605 \n",
      "[23]\ttrain-mlogloss:0.009071 \n",
      "[24]\ttrain-mlogloss:0.008660 \n",
      "[25]\ttrain-mlogloss:0.008165 \n",
      "[26]\ttrain-mlogloss:0.007831 \n",
      "[27]\ttrain-mlogloss:0.007407 \n",
      "[28]\ttrain-mlogloss:0.007157 \n",
      "[29]\ttrain-mlogloss:0.006863 \n",
      "[30]\ttrain-mlogloss:0.006656 \n",
      "[31]\ttrain-mlogloss:0.006478 \n",
      "[32]\ttrain-mlogloss:0.006251 \n",
      "[33]\ttrain-mlogloss:0.006072 \n",
      "[34]\ttrain-mlogloss:0.005926 \n",
      "[35]\ttrain-mlogloss:0.005747 \n",
      "[36]\ttrain-mlogloss:0.005614 \n",
      "[37]\ttrain-mlogloss:0.005520 \n",
      "[38]\ttrain-mlogloss:0.005364 \n",
      "[39]\ttrain-mlogloss:0.005237 \n",
      "[40]\ttrain-mlogloss:0.005125 \n",
      "[41]\ttrain-mlogloss:0.004969 \n",
      "[42]\ttrain-mlogloss:0.004874 \n",
      "[43]\ttrain-mlogloss:0.004776 \n",
      "[44]\ttrain-mlogloss:0.004690 \n",
      "[45]\ttrain-mlogloss:0.004563 \n",
      "[46]\ttrain-mlogloss:0.004496 \n",
      "[47]\ttrain-mlogloss:0.004451 \n",
      "[48]\ttrain-mlogloss:0.004349 \n",
      "[49]\ttrain-mlogloss:0.004306 \n",
      "[50]\ttrain-mlogloss:0.004265 \n"
     ]
    },
    {
     "data": {
      "text/plain": [
       "       xgpred\n",
       "testY     0   1\n",
       "  FALSE 128   1\n",
       "  TRUE    3  57"
      ]
     },
     "metadata": {},
     "output_type": "display_data"
    }
   ],
   "source": [
    "library(xgboost)\n",
    "trainY <- train$diagnosis_M == \"1\"\n",
    "trainX <- model.matrix(diagnosis_M~.-1, data=train)\n",
    "trainX <- trainX[,-24] # except dependent variable\n",
    "\n",
    "testY <- test$diagnosis_M == \"1\"\n",
    "testX <- model.matrix(diagnosis_M~.-1, data=test)\n",
    "testX <- testX[,-24]\n",
    "\n",
    "Xmatrix_train <- xgb.DMatrix(data=trainX, label=trainY)\n",
    "Xmatrix_test <- xgb.DMatrix(data=testX, label=testY)\n",
    "\n",
    "Xgboosting <- xgboost(data=Xmatrix_train, nround=50, objective =\"multi:softmax\", eta=0.3, num_class=2, max_depth=100)\n",
    "xgpred <- predict(Xgboosting, Xmatrix_test)\n",
    "table(testY, xgpred)"
   ]
  },
  {
   "cell_type": "code",
   "execution_count": 16,
   "id": "5475ed54",
   "metadata": {},
   "outputs": [
    {
     "data": {
      "text/html": [
       "0.978835978835979"
      ],
      "text/latex": [
       "0.978835978835979"
      ],
      "text/markdown": [
       "0.978835978835979"
      ],
      "text/plain": [
       "[1] 0.978836"
      ]
     },
     "metadata": {},
     "output_type": "display_data"
    }
   ],
   "source": [
    "185/189"
   ]
  },
  {
   "cell_type": "markdown",
   "id": "c95f670c",
   "metadata": {},
   "source": [
    "# Support Vector Machines"
   ]
  },
  {
   "cell_type": "markdown",
   "id": "e0e73173",
   "metadata": {},
   "source": [
    "### 1. Linear Kernel"
   ]
  },
  {
   "cell_type": "code",
   "execution_count": 39,
   "id": "911a91c5",
   "metadata": {},
   "outputs": [
    {
     "data": {
      "text/html": [
       "<style>\n",
       ".list-inline {list-style: none; margin:0; padding: 0}\n",
       ".list-inline>li {display: inline-block}\n",
       ".list-inline>li:not(:last-child)::after {content: \"\\00b7\"; padding: 0 .5ex}\n",
       "</style>\n",
       "<ol class=list-inline><li>10</li><li>27</li><li>28</li><li>29</li><li>49</li><li>59</li><li>62</li><li>67</li><li>124</li><li>127</li><li>130</li><li>138</li><li>144</li><li>176</li><li>198</li><li>257</li><li>326</li><li>343</li><li>357</li><li>33</li><li>54</li><li>61</li><li>106</li><li>137</li><li>140</li><li>150</li><li>159</li><li>195</li><li>243</li><li>265</li><li>276</li><li>300</li><li>304</li><li>311</li><li>342</li><li>351</li><li>362</li><li>363</li></ol>\n"
      ],
      "text/latex": [
       "\\begin{enumerate*}\n",
       "\\item 10\n",
       "\\item 27\n",
       "\\item 28\n",
       "\\item 29\n",
       "\\item 49\n",
       "\\item 59\n",
       "\\item 62\n",
       "\\item 67\n",
       "\\item 124\n",
       "\\item 127\n",
       "\\item 130\n",
       "\\item 138\n",
       "\\item 144\n",
       "\\item 176\n",
       "\\item 198\n",
       "\\item 257\n",
       "\\item 326\n",
       "\\item 343\n",
       "\\item 357\n",
       "\\item 33\n",
       "\\item 54\n",
       "\\item 61\n",
       "\\item 106\n",
       "\\item 137\n",
       "\\item 140\n",
       "\\item 150\n",
       "\\item 159\n",
       "\\item 195\n",
       "\\item 243\n",
       "\\item 265\n",
       "\\item 276\n",
       "\\item 300\n",
       "\\item 304\n",
       "\\item 311\n",
       "\\item 342\n",
       "\\item 351\n",
       "\\item 362\n",
       "\\item 363\n",
       "\\end{enumerate*}\n"
      ],
      "text/markdown": [
       "1. 10\n",
       "2. 27\n",
       "3. 28\n",
       "4. 29\n",
       "5. 49\n",
       "6. 59\n",
       "7. 62\n",
       "8. 67\n",
       "9. 124\n",
       "10. 127\n",
       "11. 130\n",
       "12. 138\n",
       "13. 144\n",
       "14. 176\n",
       "15. 198\n",
       "16. 257\n",
       "17. 326\n",
       "18. 343\n",
       "19. 357\n",
       "20. 33\n",
       "21. 54\n",
       "22. 61\n",
       "23. 106\n",
       "24. 137\n",
       "25. 140\n",
       "26. 150\n",
       "27. 159\n",
       "28. 195\n",
       "29. 243\n",
       "30. 265\n",
       "31. 276\n",
       "32. 300\n",
       "33. 304\n",
       "34. 311\n",
       "35. 342\n",
       "36. 351\n",
       "37. 362\n",
       "38. 363\n",
       "\n",
       "\n"
      ],
      "text/plain": [
       " [1]  10  27  28  29  49  59  62  67 124 127 130 138 144 176 198 257 326 343 357\n",
       "[20]  33  54  61 106 137 140 150 159 195 243 265 276 300 304 311 342 351 362 363"
      ]
     },
     "metadata": {},
     "output_type": "display_data"
    }
   ],
   "source": [
    "library(e1071)\n",
    "svmfit = svm (diagnosis_M~.-1, data=train , kernel = \"linear\", cost =1 ,scale = TRUE)\n",
    " \n",
    "## To check the support vectors\n",
    "svmfit$index"
   ]
  },
  {
   "cell_type": "code",
   "execution_count": 40,
   "id": "eac3b665",
   "metadata": {},
   "outputs": [
    {
     "data": {
      "text/plain": [
       "\n",
       "Call:\n",
       "best.tune(METHOD = svm, train.x = diagnosis_M ~ . - 1, data = train, \n",
       "    ranges = list(cost = c(0.001, 0.01, 0.1, 1, 10, 100)), kernel = \"linear\")\n",
       "\n",
       "\n",
       "Parameters:\n",
       "   SVM-Type:  C-classification \n",
       " SVM-Kernel:  linear \n",
       "       cost:  1 \n",
       "\n",
       "Number of Support Vectors:  38\n",
       "\n",
       " ( 19 19 )\n",
       "\n",
       "\n",
       "Number of Classes:  2 \n",
       "\n",
       "Levels: \n",
       " 0 1\n",
       "\n",
       "\n"
      ]
     },
     "metadata": {},
     "output_type": "display_data"
    }
   ],
   "source": [
    "set.seed (0)\n",
    "tune.out = tune(svm, diagnosis_M~.-1,data=train ,kernel=\"linear\", ranges =list(cost=c(0.001 , 0.01, 0.1, 1,10,100)))\n",
    "bestmod = tune.out$best.model\n",
    "summary(bestmod)"
   ]
  },
  {
   "cell_type": "code",
   "execution_count": 41,
   "id": "e1f3df35",
   "metadata": {},
   "outputs": [
    {
     "data": {
      "text/plain": [
       "   ypredL\n",
       "      0   1\n",
       "  0 127   2\n",
       "  1   2  58"
      ]
     },
     "metadata": {},
     "output_type": "display_data"
    }
   ],
   "source": [
    "ypredL=predict (bestmod ,test)\n",
    "table(test$diagnosis_M, ypredL) "
   ]
  },
  {
   "cell_type": "code",
   "execution_count": 42,
   "id": "2c8ffdaf",
   "metadata": {},
   "outputs": [
    {
     "data": {
      "text/html": [
       "0.978835978835979"
      ],
      "text/latex": [
       "0.978835978835979"
      ],
      "text/markdown": [
       "0.978835978835979"
      ],
      "text/plain": [
       "[1] 0.978836"
      ]
     },
     "metadata": {},
     "output_type": "display_data"
    }
   ],
   "source": [
    "185/189"
   ]
  },
  {
   "cell_type": "markdown",
   "id": "d0ce319d",
   "metadata": {},
   "source": [
    "### 2. Polynomial Kernel"
   ]
  },
  {
   "cell_type": "code",
   "execution_count": 43,
   "id": "ad0439b6",
   "metadata": {},
   "outputs": [
    {
     "data": {
      "text/plain": [
       "\n",
       "Call:\n",
       "best.tune(METHOD = svm, train.x = diagnosis_M ~ . - 1, data = train, \n",
       "    ranges = list(cost = c(0.001, 0.1, 1, 5, 10), degree = c(0.5, \n",
       "        1, 2, 3, 5, 10)), cross = 4, kernel = \"polynomial\")\n",
       "\n",
       "\n",
       "Parameters:\n",
       "   SVM-Type:  C-classification \n",
       " SVM-Kernel:  polynomial \n",
       "       cost:  1 \n",
       "     degree:  1 \n",
       "     coef.0:  0 \n",
       "\n",
       "Number of Support Vectors:  68\n",
       "\n",
       " ( 34 34 )\n",
       "\n",
       "\n",
       "Number of Classes:  2 \n",
       "\n",
       "Levels: \n",
       " 0 1\n",
       "\n",
       "4-fold cross-validation on training data:\n",
       "\n",
       "Total Accuracy: 95.52632 \n",
       "Single Accuracies:\n",
       " 96.84211 94.73684 95.78947 94.73684 \n",
       "\n",
       "\n"
      ]
     },
     "metadata": {},
     "output_type": "display_data"
    }
   ],
   "source": [
    "svmfitP = svm(diagnosis_M~.-1, data=train , kernel =\"polynomial\", cost=1, degree=2)\n",
    "# Hyperparameter Tuning\n",
    "tune.outP=tune(svm ,diagnosis_M~.-1,data=train, cross = 4, kernel=\"polynomial\", ranges =list(cost=c(0.001,0.1, 1,5,10),degree=c(0.5,1,2,3,5,10) ))\n",
    "bestmodP =tune.outP$best.model\n",
    "summary (bestmodP)"
   ]
  },
  {
   "cell_type": "code",
   "execution_count": 44,
   "id": "1498a2f6",
   "metadata": {},
   "outputs": [
    {
     "data": {
      "text/plain": [
       "       truth\n",
       "predict   0   1\n",
       "      0 129   4\n",
       "      1   0  56"
      ]
     },
     "metadata": {},
     "output_type": "display_data"
    }
   ],
   "source": [
    "ypredP = predict (bestmodP,test)\n",
    "table(predict = ypredP, truth = test$diagnosis_M)"
   ]
  },
  {
   "cell_type": "code",
   "execution_count": 45,
   "id": "a7faf4ab",
   "metadata": {},
   "outputs": [
    {
     "data": {
      "text/html": [
       "0.978835978835979"
      ],
      "text/latex": [
       "0.978835978835979"
      ],
      "text/markdown": [
       "0.978835978835979"
      ],
      "text/plain": [
       "[1] 0.978836"
      ]
     },
     "metadata": {},
     "output_type": "display_data"
    }
   ],
   "source": [
    "185/189"
   ]
  },
  {
   "cell_type": "markdown",
   "id": "59eb3697",
   "metadata": {},
   "source": [
    "Since the degree obtained in Polynomial Kernel is 1, the kernel becomes Linear Kernel. Means the data can be well seperated by a linear boundary"
   ]
  },
  {
   "cell_type": "markdown",
   "id": "491c13dc",
   "metadata": {},
   "source": [
    "Gradient Boost and Adaptive Boost provide the best accuracy on the test set as 98.94%"
   ]
  }
 ],
 "metadata": {
  "kernelspec": {
   "display_name": "R",
   "language": "R",
   "name": "ir"
  },
  "language_info": {
   "codemirror_mode": "r",
   "file_extension": ".r",
   "mimetype": "text/x-r-source",
   "name": "R",
   "pygments_lexer": "r",
   "version": "4.3.2"
  }
 },
 "nbformat": 4,
 "nbformat_minor": 5
}
